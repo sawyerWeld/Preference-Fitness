{
 "cells": [
  {
   "cell_type": "markdown",
   "metadata": {},
   "source": [
    "## Kullback-Leibler Divergence of Empirical and Theoretical Probabilities of Rankings "
   ]
  },
  {
   "cell_type": "markdown",
   "metadata": {},
   "source": [
    "The Kullback-Leibler(KL) divergence of two probability distributions is a measure of difference between the two probability distributions. For probability distributions E and T, the KL divergence is \n",
    "\n",
    "$$ D_{KL}(P, Q) = \\sum_{i}Q(i)\\log\\frac{Q(i)}{P(i)}    $$\n",
    "\n",
    "where i is the ith term that the probability distribution is defined over. To find the KL divergence between the empirical and theoretical probability distributions of the Ireland 2002 data, we first load in the data as well as the parameters we found for the Mallows and Plackett-Luce models that best fit the data:"
   ]
  },
  {
   "cell_type": "code",
   "execution_count": 1,
   "metadata": {},
   "outputs": [
    {
     "data": {
      "text/plain": [
       "([array([3, 1, 5, 4, 2]), 0.006131716274196619],\n",
       " array([0.31115367, 0.24348515, 0.33875853, 0.10660266]),\n",
       " 475.0)"
      ]
     },
     "execution_count": 1,
     "metadata": {},
     "output_type": "execute_result"
    }
   ],
   "source": [
    "import readPreflib\n",
    "import numpy as np\n",
    "\n",
    "_, lengths, votes = readPreflib.soiInputwithWeights('data_input/ED-debian-2002.soi')\n",
    "num_votes = 1.0 * sum(lengths.values())\n",
    "\n",
    "import pickle\n",
    "\n",
    "mallows_params  = pickle.load( open('pickle/mallows2002_1mil_2.p','rb') )\n",
    "sigma, phi = mallows_params\n",
    "plackett_params = pickle.load( open('pickle/plackett2002_3mil_2.p','rb')) \n",
    "pl_weights = plackett_params\n",
    "\n",
    "mallows_params, plackett_params, num_votes"
   ]
  },
  {
   "cell_type": "markdown",
   "metadata": {},
   "source": [
    "We also need to gather the probability functions for the Mallows and Plackett-Luce models"
   ]
  },
  {
   "cell_type": "code",
   "execution_count": 2,
   "metadata": {},
   "outputs": [
    {
     "name": "stdout",
     "output_type": "stream",
     "text": [
      "importing Jupyter notebook from Mallows_Notebook.ipynb\n",
      "importing Jupyter notebook from PL_Notebook.ipynb\n",
      "0.125\n"
     ]
    }
   ],
   "source": [
    "import import_ipynb\n",
    "from Mallows_Notebook import *\n",
    "from PL_Notebook import *\n",
    "import metropolis\n",
    "import math\n",
    "from tqdm import tqdm_notebook"
   ]
  },
  {
   "cell_type": "markdown",
   "metadata": {},
   "source": [
    "Now we can follow the equation for KL divergence to find it."
   ]
  },
  {
   "cell_type": "code",
   "execution_count": 3,
   "metadata": {},
   "outputs": [
    {
     "data": {
      "text/plain": [
       "[372.9318955776771, 46.746431392831106]"
      ]
     },
     "execution_count": 3,
     "metadata": {},
     "output_type": "execute_result"
    }
   ],
   "source": [
    "divergence_mallows = 0\n",
    "divergence_plackett = 0\n",
    "\n",
    "def insideSum(Qi,Pi):\n",
    "    return Qi * math.log(Qi/Pi)\n",
    "\n",
    "for entry in votes:\n",
    "    num_occurances, vote = entry\n",
    "    empirical = num_occurances / num_votes\n",
    "    mallows = mallowsProb(vote, sigma, phi)\n",
    "    plackett = probPlackett(vote, pl_weights)\n",
    "    divergence_mallows += insideSum(mallows, empirical)\n",
    "    divergence_plackett += insideSum(plackett, empirical)\n",
    "\n",
    "results = [divergence_mallows, divergence_plackett]\n",
    "results"
   ]
  },
  {
   "cell_type": "markdown",
   "metadata": {},
   "source": [
    "Save results"
   ]
  },
  {
   "cell_type": "code",
   "execution_count": 4,
   "metadata": {},
   "outputs": [],
   "source": [
    "import pickle\n",
    "\n",
    "pickle.dump(results, open('pickle/divergence_.p','wb'))"
   ]
  },
  {
   "cell_type": "markdown",
   "metadata": {},
   "source": [
    "This can be done for all the files in a folder as well"
   ]
  },
  {
   "cell_type": "code",
   "execution_count": 5,
   "metadata": {},
   "outputs": [
    {
     "name": "stdout",
     "output_type": "stream",
     "text": [
      "Projected Time = 12000.0 seconds, which is ~ 200.0 minutes\n"
     ]
    },
    {
     "data": {
      "application/vnd.jupyter.widget-view+json": {
       "model_id": "ff89f3a7862445fcaf3189ba96edcfe3",
       "version_major": 2,
       "version_minor": 0
      },
      "text/plain": [
       "HBox(children=(IntProgress(value=0, description='All Files', max=7), HTML(value='')))"
      ]
     },
     "metadata": {},
     "output_type": "display_data"
    },
    {
     "data": {
      "application/vnd.jupyter.widget-view+json": {
       "model_id": "95e99fee24cf4fb0950ee91819dc6336",
       "version_major": 2,
       "version_minor": 0
      },
      "text/plain": [
       "HBox(children=(IntProgress(value=0, description='mallowsCost', max=100000), HTML(value='')))"
      ]
     },
     "metadata": {},
     "output_type": "display_data"
    },
    {
     "data": {
      "application/vnd.jupyter.widget-view+json": {
       "model_id": "6edeb9ea662f4511a13e282a20a36b4b",
       "version_major": 2,
       "version_minor": 0
      },
      "text/plain": [
       "HBox(children=(IntProgress(value=0, description='plackettCost', max=100000), HTML(value='')))"
      ]
     },
     "metadata": {},
     "output_type": "display_data"
    },
    {
     "data": {
      "application/vnd.jupyter.widget-view+json": {
       "model_id": "5b26126e1559461b9f4d208f6bcd1556",
       "version_major": 2,
       "version_minor": 0
      },
      "text/plain": [
       "HBox(children=(IntProgress(value=0, description='mallowsCost', max=100000), HTML(value='')))"
      ]
     },
     "metadata": {},
     "output_type": "display_data"
    },
    {
     "data": {
      "application/vnd.jupyter.widget-view+json": {
       "model_id": "d81b06434ed947ab85524cc441309b16",
       "version_major": 2,
       "version_minor": 0
      },
      "text/plain": [
       "HBox(children=(IntProgress(value=0, description='plackettCost', max=100000), HTML(value='')))"
      ]
     },
     "metadata": {},
     "output_type": "display_data"
    },
    {
     "data": {
      "application/vnd.jupyter.widget-view+json": {
       "model_id": "8cafc0bf986c4ea58605abe3bfb14019",
       "version_major": 2,
       "version_minor": 0
      },
      "text/plain": [
       "HBox(children=(IntProgress(value=0, description='mallowsCost', max=100000), HTML(value='')))"
      ]
     },
     "metadata": {},
     "output_type": "display_data"
    },
    {
     "data": {
      "application/vnd.jupyter.widget-view+json": {
       "model_id": "15d6eba51fc44ee88c6ea04a4698e844",
       "version_major": 2,
       "version_minor": 0
      },
      "text/plain": [
       "HBox(children=(IntProgress(value=0, description='plackettCost', max=100000), HTML(value='')))"
      ]
     },
     "metadata": {},
     "output_type": "display_data"
    },
    {
     "data": {
      "application/vnd.jupyter.widget-view+json": {
       "model_id": "d5590909b21140bdb26eef63bf80b133",
       "version_major": 2,
       "version_minor": 0
      },
      "text/plain": [
       "HBox(children=(IntProgress(value=0, description='mallowsCost', max=100000), HTML(value='')))"
      ]
     },
     "metadata": {},
     "output_type": "display_data"
    },
    {
     "data": {
      "application/vnd.jupyter.widget-view+json": {
       "model_id": "9c68b1c3fea64fedb25a98fb74ea257c",
       "version_major": 2,
       "version_minor": 0
      },
      "text/plain": [
       "HBox(children=(IntProgress(value=0, description='plackettCost', max=100000), HTML(value='')))"
      ]
     },
     "metadata": {},
     "output_type": "display_data"
    },
    {
     "data": {
      "application/vnd.jupyter.widget-view+json": {
       "model_id": "e08d57ef935348c7912cb3f165d50bc1",
       "version_major": 2,
       "version_minor": 0
      },
      "text/plain": [
       "HBox(children=(IntProgress(value=0, description='mallowsCost', max=100000), HTML(value='')))"
      ]
     },
     "metadata": {},
     "output_type": "display_data"
    },
    {
     "data": {
      "application/vnd.jupyter.widget-view+json": {
       "model_id": "aa741b0c1e0040278edacf9928504293",
       "version_major": 2,
       "version_minor": 0
      },
      "text/plain": [
       "HBox(children=(IntProgress(value=0, description='plackettCost', max=100000), HTML(value='')))"
      ]
     },
     "metadata": {},
     "output_type": "display_data"
    },
    {
     "data": {
      "application/vnd.jupyter.widget-view+json": {
       "model_id": "8311220ed1954658bf9fa21a81f854fc",
       "version_major": 2,
       "version_minor": 0
      },
      "text/plain": [
       "HBox(children=(IntProgress(value=0, description='mallowsCost', max=100000), HTML(value='')))"
      ]
     },
     "metadata": {},
     "output_type": "display_data"
    },
    {
     "data": {
      "application/vnd.jupyter.widget-view+json": {
       "model_id": "411372d1d5d84d15bc6adafbc732a2b4",
       "version_major": 2,
       "version_minor": 0
      },
      "text/plain": [
       "HBox(children=(IntProgress(value=0, description='plackettCost', max=100000), HTML(value='')))"
      ]
     },
     "metadata": {},
     "output_type": "display_data"
    },
    {
     "data": {
      "application/vnd.jupyter.widget-view+json": {
       "model_id": "7cc7accef708439fa4aabb75a3ca002f",
       "version_major": 2,
       "version_minor": 0
      },
      "text/plain": [
       "HBox(children=(IntProgress(value=0, description='mallowsCost', max=100000), HTML(value='')))"
      ]
     },
     "metadata": {},
     "output_type": "display_data"
    },
    {
     "data": {
      "application/vnd.jupyter.widget-view+json": {
       "model_id": "8a056ab7022244199ec4f7fee457abae",
       "version_major": 2,
       "version_minor": 0
      },
      "text/plain": [
       "HBox(children=(IntProgress(value=0, description='plackettCost', max=100000), HTML(value='')))"
      ]
     },
     "metadata": {},
     "output_type": "display_data"
    },
    {
     "name": "stdout",
     "output_type": "stream",
     "text": [
      "\n"
     ]
    }
   ],
   "source": [
    "files = ['ED-00002-00000001.soi',\\\n",
    "         'ED-00002-00000002.soi',\\\n",
    "         'ED-00002-00000003.soi',\\\n",
    "         'ED-00002-00000004.soi',\\\n",
    "         'ED-00002-00000005.soi',\\\n",
    "         'ED-00002-00000006.soi',\\\n",
    "         'ED-00002-00000007.soi']\n",
    "\n",
    "\n",
    "list_of_votes = []\n",
    "mallows_params = []\n",
    "pl_params = []\n",
    "\n",
    "nruns = 100_000\n",
    "\n",
    "print('Projected Time =',120/1000.0 * nruns,'seconds, which is ~', 2/1000.0 * nruns, 'minutes')\n",
    "\n",
    "for file in tqdm_notebook(files,desc = 'All Files'):\n",
    "    _, lengths, votes = readPreflib.soiInputwithWeights('preflib_soi/'+file)\n",
    "    num_votes = 1.0 * sum(lengths.values())\n",
    "    list_of_votes.append((num_votes,votes))\n",
    "    p_mal = runMallows(votes, nruns, lengths)\n",
    "    mallows_params.append(p_mal)\n",
    "    p_pl = runPL(votes, nruns, lengths)\n",
    "    pl_params.append(p_pl)"
   ]
  },
  {
   "cell_type": "code",
   "execution_count": 10,
   "metadata": {},
   "outputs": [],
   "source": [
    "table = []\n",
    "col_names = ['Number_Votes','Mallow\\'s_Divergence','Plackett-Luce_Divergence']\n",
    "\n",
    "for i in range(len(list_of_votes)):\n",
    "    num_votes, votes = list_of_votes[i]\n",
    "    sigma, phi = mallows_params[i]\n",
    "    pl_weights = pl_params[i]\n",
    "    \n",
    "    divergence_mallows = 0\n",
    "    divergence_plackett = 0\n",
    "    \n",
    "    for entry in votes:\n",
    "        num_occurances, vote = entry\n",
    "        empirical = num_occurances / num_votes\n",
    "        mallows = mallowsProb(vote, sigma, phi)\n",
    "        plackett = probPlackett(vote, pl_weights)\n",
    "        divergence_mallows += insideSum(mallows, empirical)\n",
    "        divergence_plackett += insideSum(plackett, empirical)\n",
    "    \n",
    "    table.append([num_votes, divergence_mallows, divergence_plackett])"
   ]
  },
  {
   "cell_type": "code",
   "execution_count": 14,
   "metadata": {},
   "outputs": [
    {
     "data": {
      "text/html": [
       "<div>\n",
       "<style scoped>\n",
       "    .dataframe tbody tr th:only-of-type {\n",
       "        vertical-align: middle;\n",
       "    }\n",
       "\n",
       "    .dataframe tbody tr th {\n",
       "        vertical-align: top;\n",
       "    }\n",
       "\n",
       "    .dataframe thead th {\n",
       "        text-align: right;\n",
       "    }\n",
       "</style>\n",
       "<table border=\"1\" class=\"dataframe\">\n",
       "  <thead>\n",
       "    <tr style=\"text-align: right;\">\n",
       "      <th></th>\n",
       "      <th>Number_Votes</th>\n",
       "      <th>Mallow's_Divergence</th>\n",
       "      <th>Plackett-Luce_Divergence</th>\n",
       "    </tr>\n",
       "  </thead>\n",
       "  <tbody>\n",
       "    <tr>\n",
       "      <th>1</th>\n",
       "      <td>475.0</td>\n",
       "      <td>302.922382</td>\n",
       "      <td>44.742044</td>\n",
       "    </tr>\n",
       "    <tr>\n",
       "      <th>2</th>\n",
       "      <td>488.0</td>\n",
       "      <td>628.519338</td>\n",
       "      <td>70.808900</td>\n",
       "    </tr>\n",
       "    <tr>\n",
       "      <th>3</th>\n",
       "      <td>504.0</td>\n",
       "      <td>814.497174</td>\n",
       "      <td>100.674583</td>\n",
       "    </tr>\n",
       "    <tr>\n",
       "      <th>4</th>\n",
       "      <td>421.0</td>\n",
       "      <td>38.703101</td>\n",
       "      <td>84.722014</td>\n",
       "    </tr>\n",
       "    <tr>\n",
       "      <th>5</th>\n",
       "      <td>482.0</td>\n",
       "      <td>622.080369</td>\n",
       "      <td>86.699288</td>\n",
       "    </tr>\n",
       "    <tr>\n",
       "      <th>6</th>\n",
       "      <td>436.0</td>\n",
       "      <td>594.855469</td>\n",
       "      <td>66.078849</td>\n",
       "    </tr>\n",
       "    <tr>\n",
       "      <th>7</th>\n",
       "      <td>403.0</td>\n",
       "      <td>233.254897</td>\n",
       "      <td>40.925350</td>\n",
       "    </tr>\n",
       "  </tbody>\n",
       "</table>\n",
       "</div>"
      ],
      "text/plain": [
       "   Number_Votes  Mallow's_Divergence  Plackett-Luce_Divergence\n",
       "1         475.0           302.922382                 44.742044\n",
       "2         488.0           628.519338                 70.808900\n",
       "3         504.0           814.497174                100.674583\n",
       "4         421.0            38.703101                 84.722014\n",
       "5         482.0           622.080369                 86.699288\n",
       "6         436.0           594.855469                 66.078849\n",
       "7         403.0           233.254897                 40.925350"
      ]
     },
     "execution_count": 14,
     "metadata": {},
     "output_type": "execute_result"
    }
   ],
   "source": [
    "import pandas as pd\n",
    "\n",
    "npdata = np.array(table)\n",
    "results_df = pd.DataFrame(data=npdata,columns=col_names)\n",
    "results_df.index += 1\n",
    "pickle.dump(results_df, open('pickle/divergence100k.p','wb'))\n",
    "results_df"
   ]
  },
  {
   "cell_type": "code",
   "execution_count": 15,
   "metadata": {},
   "outputs": [],
   "source": [
    "# pickle.load(open('pickle/divergence100k.p','rb'))"
   ]
  },
  {
   "cell_type": "code",
   "execution_count": 16,
   "metadata": {},
   "outputs": [],
   "source": [
    "results_df.to_csv('pickle/100kRunsDivergence.csv',sep=',')"
   ]
  },
  {
   "cell_type": "code",
   "execution_count": null,
   "metadata": {},
   "outputs": [],
   "source": []
  }
 ],
 "metadata": {
  "kernelspec": {
   "display_name": "Python 3",
   "language": "python",
   "name": "python3"
  },
  "language_info": {
   "codemirror_mode": {
    "name": "ipython",
    "version": 3
   },
   "file_extension": ".py",
   "mimetype": "text/x-python",
   "name": "python",
   "nbconvert_exporter": "python",
   "pygments_lexer": "ipython3",
   "version": "3.6.5"
  }
 },
 "nbformat": 4,
 "nbformat_minor": 2
}
