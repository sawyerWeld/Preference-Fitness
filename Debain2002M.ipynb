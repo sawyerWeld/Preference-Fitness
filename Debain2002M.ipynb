{
 "cells": [
  {
   "cell_type": "markdown",
   "metadata": {},
   "source": [
    "## Mallows on Debain 2002"
   ]
  },
  {
   "cell_type": "code",
   "execution_count": 70,
   "metadata": {},
   "outputs": [],
   "source": [
    "import numpy as np\n",
    "from tqdm import tqdm_notebook\n",
    "import math\n",
    "import itertools\n",
    "import readPreflib"
   ]
  },
  {
   "cell_type": "markdown",
   "metadata": {},
   "source": [
    "The probability of a given ranking under the mallows model given a reference ranking sigma and a dispersion parameter phi is as follows:\n",
    "\n",
    "$$ P(r | \\sigma , \\phi) = \\frac{1}{Z} e^{-\\phi \\Delta}$$\n",
    "\n",
    "where\n",
    "\n",
    "$$ Z = 1 \\cdot (1 + e^{-\\phi}) \\cdot (1 + e^{-\\phi} + e^{-\\phi^2})  \\dots (1 + \\dots + e^{\\phi^{m-1}})       $$\n",
    "\n",
    "where\n",
    "\n",
    "$$ m = |r| $$"
   ]
  },
  {
   "cell_type": "code",
   "execution_count": 71,
   "metadata": {},
   "outputs": [],
   "source": [
    "def mallowsProb(r, sigma, phi):\n",
    "    return (1.0 / Z(phi, len(r)-1) * math.exp(-1.0 * phi * kt(r, sigma)))\n",
    "\n",
    "# Normalization\n",
    "def Z(phi, m):\n",
    "    product = 1\n",
    "    for i in range(1, m):\n",
    "        part = 0\n",
    "        for j in range(0,i):\n",
    "            part += math.exp(-1 * (phi ** j))\n",
    "        product *= part\n",
    "    return product   \n",
    "\n",
    "# Kendall-Tau Distance\n",
    "def kt(a, b):\n",
    "    unique_set =  np.unique(np.concatenate([a,b]))\n",
    "    pairs = itertools.combinations(unique_set, 2)\n",
    "    count = 0.0\n",
    "    for i, j in pairs:\n",
    "        unknown = False\n",
    "        try:\n",
    "            first = np_index(a, i) - np_index(a, j)\n",
    "            secnd = np_index(b, i) - np_index(b, j)\n",
    "        except:\n",
    "            unknown = True\n",
    "            count += 0.5\n",
    "        if not unknown and (first * secnd < 0):\n",
    "            count += 1\n",
    "    return count"
   ]
  },
  {
   "cell_type": "code",
   "execution_count": 72,
   "metadata": {},
   "outputs": [
    {
     "data": {
      "text/plain": [
       "0.38506033431401987"
      ]
     },
     "execution_count": 72,
     "metadata": {},
     "output_type": "execute_result"
    }
   ],
   "source": [
    "a = np.asarray([1,2,3,4])\n",
    "b = np.asarray([2,3,4,1])\n",
    "mallowsProb(a, b, 0.7)"
   ]
  },
  {
   "cell_type": "markdown",
   "metadata": {},
   "source": [
    "There are votes in the data that are incomplete. We store a vector with the probabily of each length:"
   ]
  },
  {
   "cell_type": "code",
   "execution_count": 73,
   "metadata": {},
   "outputs": [
    {
     "data": {
      "text/plain": [
       "[0.04, 0.04631578947368421, 0.26526315789473687, 0.6484210526315789]"
      ]
     },
     "execution_count": 73,
     "metadata": {},
     "output_type": "execute_result"
    }
   ],
   "source": [
    "length_probs = []\n",
    "total_votes = 1.0 * sum(length_counts.values())\n",
    "for i in range(1,len(length_counts.values())+1):\n",
    "    length_probs.append(length_counts[i] / total_votes)\n",
    "    \n",
    "def probLength(n):\n",
    "    return length_probs[n-1]\n",
    "\n",
    "length_probs"
   ]
  },
  {
   "cell_type": "markdown",
   "metadata": {},
   "source": [
    "Read in the data"
   ]
  },
  {
   "cell_type": "code",
   "execution_count": 74,
   "metadata": {},
   "outputs": [
    {
     "data": {
      "text/plain": [
       "{1: 'Branden Robinson',\n",
       " 2: 'Raphael Hertzog',\n",
       " 3: 'Bdale Garbee',\n",
       " 4: 'None Of The Above'}"
      ]
     },
     "execution_count": 74,
     "metadata": {},
     "output_type": "execute_result"
    }
   ],
   "source": [
    "candidates, length_counts, votes = readPreflib.soiInputwithWeights('data_input/ED-debian-2002.soi')\n",
    "candidates"
   ]
  },
  {
   "cell_type": "markdown",
   "metadata": {},
   "source": [
    "The votes come in as tuples that look like\n",
    "- (5, [1,2,3,4,5])\n",
    "- (2, [4,2,1,3])\n",
    "\n",
    "The second term in the tuple is a vote, and the first term is the number of terms that vote occurs.\n",
    "Therefore, the sum of the probabilities of all votes in a dataset given a mallows model is the following:"
   ]
  },
  {
   "cell_type": "code",
   "execution_count": 75,
   "metadata": {},
   "outputs": [
    {
     "data": {
      "text/plain": [
       "144.98275312432824"
      ]
     },
     "execution_count": 75,
     "metadata": {},
     "output_type": "execute_result"
    }
   ],
   "source": [
    "def mallowsCost(params, dataset):\n",
    "    central_ranking, phi = params\n",
    "    cost = 0\n",
    "    for tup in dataset:\n",
    "        num_occurances, r = tup\n",
    "        cost += probLength(len(r)) * num_occurances * mallowsProb(r, central_ranking, phi)\n",
    "    return cost\n",
    "\n",
    "mallowsCost(([1,2,3,4],0.5),votes)"
   ]
  },
  {
   "cell_type": "markdown",
   "metadata": {},
   "source": [
    "If we try to maximize the above cost, we can find near-optimal parameters using the Metropolis-Hastings algorithm"
   ]
  },
  {
   "cell_type": "code",
   "execution_count": 79,
   "metadata": {},
   "outputs": [],
   "source": [
    "def maximize(cost_model, params, gen_candidate, dataset, runs):\n",
    "    initial_cost = cost_model(params, dataset)\n",
    "    # print('Initial Cost ~',initial_cost)\n",
    "    greatest_cost = initial_cost\n",
    "    max_params = None\n",
    "    \n",
    "    for step in tqdm_notebook(range(runs)):\n",
    "        new_params = gen_candidate(params)\n",
    "        prev_cost = cost_model(params, dataset)\n",
    "        new_cost = cost_model(params, dataset)\n",
    "        \n",
    "        u = np.random.uniform(0,1)\n",
    "        alpha = (1.0 * new_cost) / prev_cost\n",
    "\n",
    "        if alpha > u:\n",
    "            params = new_params\n",
    "            prev_cost = new_cost\n",
    "        \n",
    "        if new_cost > greatest_cost:\n",
    "            greatest_cost = new_cost\n",
    "            max_params = params\n",
    "        \n",
    "    return max_params, greatest_cost"
   ]
  },
  {
   "cell_type": "markdown",
   "metadata": {},
   "source": [
    "We need functions to generate new candidates for the Metropolis algorithm"
   ]
  },
  {
   "cell_type": "code",
   "execution_count": 77,
   "metadata": {},
   "outputs": [],
   "source": [
    "def generateMallowsCandidate(params):\n",
    "    sigma, phi = params\n",
    "    new_sigma = generateSigma(sigma)\n",
    "    new_phi = generatePhi(phi)\n",
    "    return [new_sigma, new_phi]\n",
    "\n",
    "def generateSigma(order):\n",
    "    tuning_parameter = 0.25\n",
    "    a = np.random.randint(len(order))\n",
    "    b = np.random.randint(len(order))\n",
    "    order[a], order[b] = order[b], order[a]\n",
    "    while (np.random.uniform(0.0, 1.0) >= tuning_parameter):\n",
    "        a = np.random.randint(len(order))\n",
    "        b = np.random.randint(len(order))\n",
    "        order[a], order[b] = order[b], order[a]\n",
    "    return order\n",
    "\n",
    "def generatePhi(phi):\n",
    "    alpha = 0.2 # tuning param\n",
    "    delta = np.random.uniform(-1 * alpha,alpha)\n",
    "    new = phi + delta\n",
    "    while(new <= 0):\n",
    "        delta = np.random.uniform(-1 * alpha,alpha)\n",
    "        new = phi + delta\n",
    "    return new"
   ]
  },
  {
   "cell_type": "markdown",
   "metadata": {},
   "source": [
    "We are ready to find the parameters of the Mallow's model on the data"
   ]
  },
  {
   "cell_type": "code",
   "execution_count": 87,
   "metadata": {},
   "outputs": [
    {
     "data": {
      "application/vnd.jupyter.widget-view+json": {
       "model_id": "ae72db0de125438385ad451b3ea880fe",
       "version_major": 2,
       "version_minor": 0
      },
      "text/plain": [
       "HBox(children=(IntProgress(value=0, max=100000), HTML(value='')))"
      ]
     },
     "metadata": {},
     "output_type": "display_data"
    },
    {
     "name": "stdout",
     "output_type": "stream",
     "text": [
      "\n"
     ]
    }
   ],
   "source": [
    "initial_sigma = np.asarray([1,2,3,4])\n",
    "initial_params = [initial_sigma, 1.0]\n",
    "params, cost = maximize(mallowsCost, initial_params, generateMallowsCandidate, votes, 100000)"
   ]
  },
  {
   "cell_type": "code",
   "execution_count": 91,
   "metadata": {},
   "outputs": [
    {
     "name": "stdout",
     "output_type": "stream",
     "text": [
      "Central Ranking \t [2 3 4 1]\n",
      "Dispersion Parameter \t 0.0850367\n"
     ]
    }
   ],
   "source": [
    "sigma, phi = params\n",
    "print('Central Ranking \\t', sigma)\n",
    "print('Dispersion Parameter \\t', '%2.7f' % phi)"
   ]
  },
  {
   "cell_type": "markdown",
   "metadata": {},
   "source": [
    "Save these to disk"
   ]
  },
  {
   "cell_type": "code",
   "execution_count": 92,
   "metadata": {},
   "outputs": [],
   "source": [
    "import pickle\n",
    "\n",
    "pickle.dump(params, open('pickle/mallows2002_100k.p','wb'))"
   ]
  },
  {
   "cell_type": "code",
   "execution_count": null,
   "metadata": {},
   "outputs": [],
   "source": []
  }
 ],
 "metadata": {
  "kernelspec": {
   "display_name": "Python 3",
   "language": "python",
   "name": "python3"
  },
  "language_info": {
   "codemirror_mode": {
    "name": "ipython",
    "version": 3
   },
   "file_extension": ".py",
   "mimetype": "text/x-python",
   "name": "python",
   "nbconvert_exporter": "python",
   "pygments_lexer": "ipython3",
   "version": "3.6.5"
  }
 },
 "nbformat": 4,
 "nbformat_minor": 2
}
