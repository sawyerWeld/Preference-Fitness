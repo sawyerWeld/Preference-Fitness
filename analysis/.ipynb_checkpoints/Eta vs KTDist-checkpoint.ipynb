{
 "cells": [
  {
   "cell_type": "code",
   "execution_count": 104,
   "metadata": {},
   "outputs": [],
   "source": [
    "import numpy as np\n",
    "import itertools\n",
    "\n",
    "# num = number of ranks\n",
    "# N = length of each rank\n",
    "def generateMallowsSet(num, N, eta, centroid=0):\n",
    "    if centroid == 0:\n",
    "        centroid = np.arange(N)\n",
    "    list = []\n",
    "    for _ in range(num):\n",
    "        ord = np.arange(N)\n",
    "        ord[0] = centroid[0]\n",
    "        for i in range(1, N):\n",
    "            ord[i] = centroid[i]\n",
    "            j = i\n",
    "            while (eta > np.random.uniform(0.0,1.0) and j >= 1):\n",
    "                ord[j], ord[j-1] = ord[j-1], ord[j]\n",
    "                j -= 1\n",
    "\n",
    "        list.append(ord)\n",
    "    return list"
   ]
  },
  {
   "cell_type": "code",
   "execution_count": 105,
   "metadata": {},
   "outputs": [
    {
     "data": {
      "text/plain": [
       "[array([2, 1, 0]), array([2, 0, 1])]"
      ]
     },
     "execution_count": 105,
     "metadata": {},
     "output_type": "execute_result"
    }
   ],
   "source": [
    "data = generateMallowsSet(2,3,0.8)\n",
    "data"
   ]
  },
  {
   "cell_type": "code",
   "execution_count": 106,
   "metadata": {},
   "outputs": [],
   "source": [
    "def np_index(array, value):\n",
    "    return np.where(array==value)[0][0]"
   ]
  },
  {
   "cell_type": "code",
   "execution_count": 107,
   "metadata": {},
   "outputs": [],
   "source": [
    "def ktdistanceSOI(a, b):\n",
    "    pairs = itertools.combinations(a, 2)\n",
    "    count = 0.0\n",
    "    for i, j in pairs:\n",
    "        print('-----',i, j)\n",
    "        half = False\n",
    "        first = np_index(a, i) - np_index(a, j)\n",
    "        print(first, np_index(a, i))\n",
    "        try:\n",
    "            secnd = np_index(b, i) - np_index(b, j)\n",
    "        except:\n",
    "            half = True\n",
    "            count += 0.5\n",
    "        if not half and (first * secnd < 0):\n",
    "            count += 1\n",
    "    return count"
   ]
  },
  {
   "cell_type": "code",
   "execution_count": 108,
   "metadata": {},
   "outputs": [
    {
     "name": "stdout",
     "output_type": "stream",
     "text": [
      "----- 2 1\n",
      "-1 0\n",
      "----- 2 0\n",
      "-2 0\n",
      "----- 1 0\n",
      "-1 1\n"
     ]
    },
    {
     "data": {
      "text/plain": [
       "1.0"
      ]
     },
     "execution_count": 108,
     "metadata": {},
     "output_type": "execute_result"
    }
   ],
   "source": [
    "ktdistanceSOI(data[0],data[1])"
   ]
  },
  {
   "cell_type": "code",
   "execution_count": 123,
   "metadata": {},
   "outputs": [],
   "source": [
    "r = 0.0\n",
    "central = np.arange(12)\n",
    "kt = []\n",
    "while r < 1.0:\n",
    "    data = generateMallowsSet(1000, 12, r)\n",
    "    kt_sum = 0\n",
    "    for d in data:\n",
    "        kt_sum += ktdistance(central, d)\n",
    "    kt.append((r, kt_sum/1000.0))\n",
    "    r += 0.05\n",
    "    \n"
   ]
  },
  {
   "cell_type": "code",
   "execution_count": 124,
   "metadata": {},
   "outputs": [
    {
     "data": {
      "text/plain": [
       "[(0.0, 0.0),\n",
       " (0.05, 0.577),\n",
       " (0.1, 1.261),\n",
       " (0.15000000000000002, 1.843),\n",
       " (0.2, 2.656),\n",
       " (0.25, 3.48),\n",
       " (0.3, 4.48),\n",
       " (0.35, 5.628),\n",
       " (0.39999999999999997, 6.87),\n",
       " (0.44999999999999996, 8.309),\n",
       " (0.49999999999999994, 10.05),\n",
       " (0.5499999999999999, 12.105),\n",
       " (0.6, 14.466),\n",
       " (0.65, 16.894),\n",
       " (0.7000000000000001, 20.348),\n",
       " (0.7500000000000001, 24.418),\n",
       " (0.8000000000000002, 29.322),\n",
       " (0.8500000000000002, 35.389),\n",
       " (0.9000000000000002, 43.393),\n",
       " (0.9500000000000003, 53.302)]"
      ]
     },
     "execution_count": 124,
     "metadata": {},
     "output_type": "execute_result"
    }
   ],
   "source": [
    "\n",
    "\n",
    "kt"
   ]
  },
  {
   "cell_type": "code",
   "execution_count": 125,
   "metadata": {},
   "outputs": [
    {
     "data": {
      "image/png": "[encoded data removed]",
      "text/plain": [
       "<Figure size 432x288 with 1 Axes>"
      ]
     },
     "metadata": {},
     "output_type": "display_data"
    }
   ],
   "source": [
    "import matplotlib.pyplot as plt\n",
    "x,y = zip(*kt)\n",
    "plt.scatter(x,y)\n",
    "plt.show()"
   ]
  },
  {
   "cell_type": "code",
   "execution_count": null,
   "metadata": {},
   "outputs": [],
   "source": []
  }
 ],
 "metadata": {
  "kernelspec": {
   "display_name": "Python 3",
   "language": "python",
   "name": "python3"
  },
  "language_info": {
   "codemirror_mode": {
    "name": "ipython",
    "version": 3
   },
   "file_extension": ".py",
   "mimetype": "text/x-python",
   "name": "python",
   "nbconvert_exporter": "python",
   "pygments_lexer": "ipython3",
   "version": "3.6.5"
  }
 },
 "nbformat": 4,
 "nbformat_minor": 2
}
