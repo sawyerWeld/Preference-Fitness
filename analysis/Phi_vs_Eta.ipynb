{
 "cells": [
  {
   "cell_type": "markdown",
   "metadata": {},
   "source": [
    "## Analysing Mallow's phi vs data generation eta"
   ]
  },
  {
   "cell_type": "code",
   "execution_count": 4,
   "metadata": {},
   "outputs": [
    {
     "name": "stdout",
     "output_type": "stream",
     "text": [
      "19\n"
     ]
    }
   ],
   "source": [
    "import numpy as np\n",
    "import matplotlib.pyplot as plt\n",
    "\n",
    "def count_swaps(N, eta):\n",
    "    c = 0\n",
    "    for i in range(1, N):\n",
    "        for j in range(i, 0, -1):\n",
    "            if eta >= np.random.uniform(0.0,1.0):\n",
    "                c += 1\n",
    "    return c\n",
    "\n",
    "print(count_swaps(10, 0.5))"
   ]
  },
  {
   "cell_type": "code",
   "execution_count": 5,
   "metadata": {},
   "outputs": [
    {
     "name": "stdout",
     "output_type": "stream",
     "text": [
      "[(10, 23.2), (11, 29.3), (12, 34.9), (13, 38.5), (14, 47.1), (15, 52.8), (16, 58.8), (17, 69.1), (18, 75.2), (19, 85.1), (20, 98.9)]\n"
     ]
    }
   ],
   "source": [
    "def analysis(num_iters, N_min, N_max, N_inc, eta):\n",
    "    out = []\n",
    "    for N in range(N_min, N_max+1, N_inc):\n",
    "        this_N = []\n",
    "        for _ in range(num_iters):\n",
    "            this_N.append(count_swaps(N, eta) * 1.0)\n",
    "        out.append((N, np.sum(this_N) / num_iters))\n",
    "    return out\n",
    "\n",
    "print(analysis(10, 10, 20, 1,  0.5))"
   ]
  },
  {
   "cell_type": "code",
   "execution_count": 16,
   "metadata": {},
   "outputs": [
    {
     "data": {
      "image/png": "[encoded data removed]",
      "text/plain": [
       "<Figure size 432x288 with 1 Axes>"
      ]
     },
     "metadata": {},
     "output_type": "display_data"
    }
   ],
   "source": [
    "%matplotlib inline\n",
    "\n",
    "x, y = zip(*analysis(num_iters=10, N_min=5, N_max=100, N_inc=1, eta=0.5))\n",
    "plt.scatter(x,y)\n",
    "plt.xlabel('Number of swaps')\n",
    "plt.ylabel('Length of ranking')\n",
    "plt.show()"
   ]
  },
  {
   "cell_type": "code",
   "execution_count": 17,
   "metadata": {},
   "outputs": [
    {
     "data": {
      "text/plain": [
       "array([0.05029353, 3.4503886 ])"
      ]
     },
     "execution_count": 17,
     "metadata": {},
     "output_type": "execute_result"
    }
   ],
   "source": [
    "np.polyfit(x, np.log(y), 1)"
   ]
  },
  {
   "cell_type": "markdown",
   "metadata": {},
   "source": [
    "array([0.05029353, 3.4503886 ]) means the curve fitted is y = exp(0.503) + exp(3.450 * x)\n",
    "which equals \n",
    "y = 1.05 + e ^ 3.45x\n",
    "Plotting this function, we can see that it doesn't match the data. :("
   ]
  }
 ],
 "metadata": {
  "kernelspec": {
   "display_name": "Python 3",
   "language": "python",
   "name": "python3"
  },
  "language_info": {
   "codemirror_mode": {
    "name": "ipython",
    "version": 3
   },
   "file_extension": ".py",
   "mimetype": "text/x-python",
   "name": "python",
   "nbconvert_exporter": "python",
   "pygments_lexer": "ipython3",
   "version": "3.6.5"
  }
 },
 "nbformat": 4,
 "nbformat_minor": 2
}
