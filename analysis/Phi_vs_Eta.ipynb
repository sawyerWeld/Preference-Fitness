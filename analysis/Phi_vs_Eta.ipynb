{
 "cells": [
  {
   "cell_type": "markdown",
   "metadata": {},
   "source": [
    "## Analyzing phi vs eta again, this time with correct mallows gen function"
   ]
  },
  {
   "cell_type": "markdown",
   "metadata": {},
   "source": [
    "Here is the actual mallows generation code"
   ]
  },
  {
   "cell_type": "code",
   "execution_count": 166,
   "metadata": {},
   "outputs": [],
   "source": [
    "import numpy as np\n",
    "\n",
    "# num = number of ranks\n",
    "# N = length of each rank\n",
    "def generateMallowsSet(num, N, eta, centroid=0):\n",
    "    swaps = 0\n",
    "    if centroid == 0:\n",
    "        centroid = np.arange(N)\n",
    "    list = []\n",
    "    for _ in range(num):\n",
    "        ord = np.arange(N)\n",
    "        ord[0] = centroid[0]\n",
    "        for i in range(1, N):\n",
    "            ord[i] = centroid[i]\n",
    "            j = i\n",
    "            while (eta > np.random.uniform(0.0,1.0) and j >= 1):\n",
    "                ord[j], ord[j-1] = ord[j-1], ord[j]\n",
    "                swaps += 1\n",
    "                j -= 1\n",
    "            print(j, swaps)\n",
    "\n",
    "        list.append(ord)\n",
    "    # actual func returns the list here\n",
    "    return swaps"
   ]
  },
  {
   "cell_type": "code",
   "execution_count": 167,
   "metadata": {},
   "outputs": [
    {
     "name": "stdout",
     "output_type": "stream",
     "text": [
      "0 1\n",
      "0 3\n",
      "0 6\n",
      "0 10\n",
      "0 15\n",
      "0 21\n",
      "0 28\n",
      "0 36\n",
      "0 45\n"
     ]
    },
    {
     "data": {
      "text/plain": [
       "45"
      ]
     },
     "execution_count": 167,
     "metadata": {},
     "output_type": "execute_result"
    }
   ],
   "source": [
    "generateMallowsSet(1, 10, 0.99, 0)"
   ]
  },
  {
   "cell_type": "markdown",
   "metadata": {},
   "source": [
    "With 99% swap chance it swaps 45 times"
   ]
  },
  {
   "cell_type": "code",
   "execution_count": 170,
   "metadata": {},
   "outputs": [
    {
     "name": "stdout",
     "output_type": "stream",
     "text": [
      "55.0\n"
     ]
    }
   ],
   "source": [
    "def max_swaps(N):\n",
    "    return (N * (N+1)) / 2\n",
    "print(max_swaps(10))"
   ]
  },
  {
   "cell_type": "markdown",
   "metadata": {},
   "source": [
    "We use geometric series here, so lets define some helper functions"
   ]
  },
  {
   "cell_type": "code",
   "execution_count": 159,
   "metadata": {},
   "outputs": [
    {
     "name": "stdout",
     "output_type": "stream",
     "text": [
      "1.0\n"
     ]
    }
   ],
   "source": [
    "\n",
    "\n",
    "def partial_sum(s=1, r=0.5, n=100) : \n",
    "    return (r * (1 - pow(r, n))) / (1 - r) \n",
    "\n",
    "\n",
    "print(partial_sum(r = (1/2.0), n = 100))  "
   ]
  },
  {
   "cell_type": "code",
   "execution_count": 160,
   "metadata": {},
   "outputs": [
    {
     "data": {
      "text/plain": [
       "9.0009765625"
      ]
     },
     "execution_count": 160,
     "metadata": {},
     "output_type": "execute_result"
    }
   ],
   "source": [
    "def sum_of_partial_sums(ratio, N):\n",
    "    s = 0\n",
    "    for i in range(1,N):\n",
    "        p = partial_sum(r = ratio, n = i)\n",
    "        s += p\n",
    "        # print(i,s,'\\t',p)\n",
    "    return s\n",
    "\n",
    "sum_of_partial_sums((1/2.0),11)"
   ]
  },
  {
   "cell_type": "code",
   "execution_count": 162,
   "metadata": {},
   "outputs": [
    {
     "name": "stdout",
     "output_type": "stream",
     "text": [
      "0.00 0.0000\n",
      "0.05 0.5762\n",
      "0.10 1.2099\n",
      "0.15 1.9100\n",
      "0.20 2.6875\n",
      "0.25 3.5556\n",
      "0.30 4.5306\n",
      "0.35 5.6331\n",
      "0.40 6.8889\n",
      "0.45 8.3307\n",
      "0.50 10.0005\n",
      "0.55 11.9527\n",
      "0.60 14.2582\n",
      "0.65 17.0098\n",
      "0.70 20.3299\n",
      "0.75 24.3801\n",
      "0.80 29.3744\n",
      "0.85 35.5958\n",
      "0.90 43.4187\n",
      "0.95 53.3368\n"
     ]
    }
   ],
   "source": [
    "r = 0.0\n",
    "data = []\n",
    "while r <= 1.0:\n",
    "    print(\"%.2f\" %r, \"%.4f\" %sum_of_partial_sums(r,12))\n",
    "    data.append((r, sum_of_partial_sums(r,12)))\n",
    "    r += 0.05"
   ]
  },
  {
   "cell_type": "code",
   "execution_count": 164,
   "metadata": {},
   "outputs": [
    {
     "data": {
      "image/png": "[encoded data removed]",
      "text/plain": [
       "<Figure size 432x288 with 1 Axes>"
      ]
     },
     "metadata": {},
     "output_type": "display_data"
    }
   ],
   "source": [
    "import matplotlib.pyplot as plt\n",
    "\n",
    "r,swaps = zip(*data)\n",
    "plt.scatter(r,swaps)\n",
    "plt.show()"
   ]
  }
 ],
 "metadata": {
  "kernelspec": {
   "display_name": "Python 3",
   "language": "python",
   "name": "python3"
  },
  "language_info": {
   "codemirror_mode": {
    "name": "ipython",
    "version": 3
   },
   "file_extension": ".py",
   "mimetype": "text/x-python",
   "name": "python",
   "nbconvert_exporter": "python",
   "pygments_lexer": "ipython3",
   "version": "3.6.5"
  }
 },
 "nbformat": 4,
 "nbformat_minor": 2
}
