{
 "cells": [
  {
   "cell_type": "markdown",
   "metadata": {},
   "source": [
    "## Analysing Mallow's phi vs data generation eta"
   ]
  },
  {
   "cell_type": "code",
   "execution_count": 18,
   "metadata": {},
   "outputs": [
    {
     "name": "stdout",
     "output_type": "stream",
     "text": [
      "3326\n"
     ]
    }
   ],
   "source": [
    "import numpy as np\n",
    "import matplotlib.pyplot as plt\n",
    "\n",
    "def count_swaps(N, eta):\n",
    "    c = 0\n",
    "    for i in range(1, N):\n",
    "        for j in range(i, 0, -1):\n",
    "            if eta >= np.random.uniform(0.0,1.0):\n",
    "                c += 1\n",
    "    return c\n",
    "\n",
    "print(count_swaps(100, (2.0/3.0)))"
   ]
  },
  {
   "cell_type": "code",
   "execution_count": 22,
   "metadata": {},
   "outputs": [
    {
     "name": "stdout",
     "output_type": "stream",
     "text": [
      "[(10, 21.8), (11, 27.0), (12, 30.5), (13, 39.5), (14, 48.0), (15, 49.7), (16, 60.0), (17, 65.1), (18, 76.4), (19, 86.1), (20, 96.6)]\n"
     ]
    }
   ],
   "source": [
    "def analysis(num_iters, N_min, N_max, N_inc, eta):\n",
    "    out = []\n",
    "    for N in range(N_min, N_max+1, N_inc):\n",
    "        this_N = []\n",
    "        for _ in range(num_iters):\n",
    "            this_N.append(count_swaps(N, eta) * 1.0)\n",
    "        out.append((N, np.sum(this_N) / (num_iters)))\n",
    "    return out\n",
    "\n",
    "print(analysis(10, 10, 20, 1,  0.5))"
   ]
  },
  {
   "cell_type": "code",
   "execution_count": 23,
   "metadata": {},
   "outputs": [
    {
     "data": {
      "image/png": "[encoded data removed]",
      "text/plain": [
       "<Figure size 432x288 with 1 Axes>"
      ]
     },
     "metadata": {},
     "output_type": "display_data"
    }
   ],
   "source": [
    "%matplotlib inline\n",
    "\n",
    "x, y = zip(*analysis(num_iters=10, N_min=5, N_max=100, N_inc=1, eta=0.5))\n",
    "plt.scatter(x,y)\n",
    "plt.xlabel('Length of ranking')\n",
    "plt.ylabel('Number of swaps')\n",
    "plt.show()"
   ]
  },
  {
   "cell_type": "markdown",
   "metadata": {},
   "source": [
    "I think I was looking at things wrong. Say we have a 2/3 chance to swap. Our expected series is S = 2/3 + 4/9 + 8/27 + ...; If we multiply this by 2/3, we get (2/3)S = 4/9 + 8/27 + 16/81 + ...; which is 2/3 less than S. \n",
    "* S - (2/3)S = 2/3\n",
    "* (1/3)S = 2/3\n",
    "* S = 2\n",
    "\n",
    "So as N -> inf, the expected number of swaps approaches 2(N-1) (2 swaps per iteration, except we dont swap when there is only 1 element)"
   ]
  },
  {
   "cell_type": "code",
   "execution_count": null,
   "metadata": {},
   "outputs": [],
   "source": []
  }
 ],
 "metadata": {
  "kernelspec": {
   "display_name": "Python 3",
   "language": "python",
   "name": "python3"
  },
  "language_info": {
   "codemirror_mode": {
    "name": "ipython",
    "version": 3
   },
   "file_extension": ".py",
   "mimetype": "text/x-python",
   "name": "python",
   "nbconvert_exporter": "python",
   "pygments_lexer": "ipython3",
   "version": "3.6.5"
  }
 },
 "nbformat": 4,
 "nbformat_minor": 2
}
