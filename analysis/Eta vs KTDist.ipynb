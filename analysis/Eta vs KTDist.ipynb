{
 "cells": [
  {
   "cell_type": "code",
   "execution_count": 104,
   "metadata": {},
   "outputs": [],
   "source": [
    "import numpy as np\n",
    "import itertools\n",
    "\n",
    "# num = number of ranks\n",
    "# N = length of each rank\n",
    "def generateMallowsSet(num, N, eta, centroid=0):\n",
    "    if centroid == 0:\n",
    "        centroid = np.arange(N)\n",
    "    list = []\n",
    "    for _ in range(num):\n",
    "        ord = np.arange(N)\n",
    "        ord[0] = centroid[0]\n",
    "        for i in range(1, N):\n",
    "            ord[i] = centroid[i]\n",
    "            j = i\n",
    "            while (eta > np.random.uniform(0.0,1.0) and j >= 1):\n",
    "                ord[j], ord[j-1] = ord[j-1], ord[j]\n",
    "                j -= 1\n",
    "\n",
    "        list.append(ord)\n",
    "    return list"
   ]
  },
  {
   "cell_type": "code",
   "execution_count": 105,
   "metadata": {},
   "outputs": [
    {
     "data": {
      "text/plain": [
       "[array([2, 1, 0]), array([2, 0, 1])]"
      ]
     },
     "execution_count": 105,
     "metadata": {},
     "output_type": "execute_result"
    }
   ],
   "source": [
    "data = generateMallowsSet(2,3,0.8)\n",
    "data"
   ]
  },
  {
   "cell_type": "code",
   "execution_count": 106,
   "metadata": {},
   "outputs": [],
   "source": [
    "def np_index(array, value):\n",
    "    return np.where(array==value)[0][0]"
   ]
  },
  {
   "cell_type": "code",
   "execution_count": 107,
   "metadata": {},
   "outputs": [],
   "source": [
    "def ktdistanceSOI(a, b):\n",
    "    pairs = itertools.combinations(a, 2)\n",
    "    count = 0.0\n",
    "    for i, j in pairs:\n",
    "        print('-----',i, j)\n",
    "        half = False\n",
    "        first = np_index(a, i) - np_index(a, j)\n",
    "        print(first, np_index(a, i))\n",
    "        try:\n",
    "            secnd = np_index(b, i) - np_index(b, j)\n",
    "        except:\n",
    "            half = True\n",
    "            count += 0.5\n",
    "        if not half and (first * secnd < 0):\n",
    "            count += 1\n",
    "    return count"
   ]
  },
  {
   "cell_type": "code",
   "execution_count": 108,
   "metadata": {},
   "outputs": [
    {
     "name": "stdout",
     "output_type": "stream",
     "text": [
      "----- 2 1\n",
      "-1 0\n",
      "----- 2 0\n",
      "-2 0\n",
      "----- 1 0\n",
      "-1 1\n"
     ]
    },
    {
     "data": {
      "text/plain": [
       "1.0"
      ]
     },
     "execution_count": 108,
     "metadata": {},
     "output_type": "execute_result"
    }
   ],
   "source": [
    "ktdistanceSOI(data[0],data[1])"
   ]
  },
  {
   "cell_type": "code",
   "execution_count": null,
   "metadata": {},
   "outputs": [],
   "source": []
  }
 ],
 "metadata": {
  "kernelspec": {
   "display_name": "Python 3",
   "language": "python",
   "name": "python3"
  },
  "language_info": {
   "codemirror_mode": {
    "name": "ipython",
    "version": 3
   },
   "file_extension": ".py",
   "mimetype": "text/x-python",
   "name": "python",
   "nbconvert_exporter": "python",
   "pygments_lexer": "ipython3",
   "version": "3.6.5"
  }
 },
 "nbformat": 4,
 "nbformat_minor": 2
}
