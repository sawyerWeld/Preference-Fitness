{
 "cells": [
  {
   "cell_type": "code",
   "execution_count": 1,
   "metadata": {},
   "outputs": [],
   "source": [
    "import numpy as np\n",
    "import itertools\n",
    "\n",
    "# num = number of ranks\n",
    "# N = length of each rank\n",
    "def generateMallowsSet(num, N, eta, centroid=0):\n",
    "    if centroid == 0:\n",
    "        centroid = np.arange(N)\n",
    "    list = []\n",
    "    for _ in range(num):\n",
    "        ord = np.arange(N)\n",
    "        ord[0] = centroid[0]\n",
    "        for i in range(1, N):\n",
    "            ord[i] = centroid[i]\n",
    "            j = i\n",
    "            while (eta > np.random.uniform(0.0,1.0) and j >= 1):\n",
    "                ord[j], ord[j-1] = ord[j-1], ord[j]\n",
    "                j -= 1\n",
    "\n",
    "        list.append(ord)\n",
    "    return list"
   ]
  },
  {
   "cell_type": "code",
   "execution_count": 2,
   "metadata": {},
   "outputs": [
    {
     "data": {
      "text/plain": [
       "[array([2, 1, 0]), array([1, 2, 0])]"
      ]
     },
     "execution_count": 2,
     "metadata": {},
     "output_type": "execute_result"
    }
   ],
   "source": [
    "data = generateMallowsSet(2,3,0.8)\n",
    "data"
   ]
  },
  {
   "cell_type": "code",
   "execution_count": 3,
   "metadata": {},
   "outputs": [],
   "source": [
    "def np_index(array, value):\n",
    "    return np.where(array==value)[0][0]"
   ]
  },
  {
   "cell_type": "code",
   "execution_count": 4,
   "metadata": {},
   "outputs": [],
   "source": [
    "def ktdistanceSOI(a, b):\n",
    "    pairs = itertools.combinations(a, 2)\n",
    "    count = 0.0\n",
    "    for i, j in pairs:\n",
    "        #print('-----',i, j)\n",
    "        half = False\n",
    "        first = np_index(a, i) - np_index(a, j)\n",
    "        #print(first, np_index(a, i))\n",
    "        try:\n",
    "            secnd = np_index(b, i) - np_index(b, j)\n",
    "        except:\n",
    "            half = True\n",
    "            count += 0.5\n",
    "        if not half and (first * secnd < 0):\n",
    "            count += 1\n",
    "    return count"
   ]
  },
  {
   "cell_type": "code",
   "execution_count": 5,
   "metadata": {},
   "outputs": [
    {
     "data": {
      "text/plain": [
       "1.0"
      ]
     },
     "execution_count": 5,
     "metadata": {},
     "output_type": "execute_result"
    }
   ],
   "source": [
    "ktdistanceSOI(data[0],data[1])"
   ]
  },
  {
   "cell_type": "code",
   "execution_count": 83,
   "metadata": {},
   "outputs": [
    {
     "name": "stdout",
     "output_type": "stream",
     "text": [
      "done\n"
     ]
    }
   ],
   "source": [
    "r = 0.0\n",
    "iters = 100\n",
    "N = 12\n",
    "central = np.arange(N)\n",
    "kt = []\n",
    "while r < 1.0:\n",
    "    data = generateMallowsSet(iters, N, r)\n",
    "    kt_sum = 0\n",
    "    for d in data:\n",
    "        kt_sum += ktdistanceSOI(central, d)\n",
    "    kt.append((r, kt_sum/(iters*1.)))\n",
    "    r += 0.01\n",
    "print('done')"
   ]
  },
  {
   "cell_type": "code",
   "execution_count": 84,
   "metadata": {},
   "outputs": [
    {
     "data": {
      "text/plain": [
       "<matplotlib.collections.PathCollection at 0x25d3159b0f0>"
      ]
     },
     "execution_count": 84,
     "metadata": {},
     "output_type": "execute_result"
    },
    {
     "data": {
      "image/png": "[encoded data removed]",
      "text/plain": [
       "<Figure size 432x288 with 1 Axes>"
      ]
     },
     "metadata": {},
     "output_type": "display_data"
    }
   ],
   "source": [
    "import matplotlib.pyplot as plt\n",
    "%matplotlib inline\n",
    "x,y = zip(*kt)\n",
    "plt.scatter(x,y)"
   ]
  },
  {
   "cell_type": "markdown",
   "metadata": {},
   "source": [
    "The higher numbers seem wrong? Should a ranking of 12 numbers really have a KT distance of 50+? The maximum number of swaps is (12 choose 2) = 66, so yes.\n",
    "\n",
    "Let's try to fit an exponential function to it."
   ]
  },
  {
   "cell_type": "code",
   "execution_count": 85,
   "metadata": {},
   "outputs": [],
   "source": [
    "from scipy.optimize import curve_fit"
   ]
  },
  {
   "cell_type": "code",
   "execution_count": 86,
   "metadata": {},
   "outputs": [
    {
     "data": {
      "text/plain": [
       "array([ 1.46524903, -3.7864722 , -0.38212237])"
      ]
     },
     "execution_count": 86,
     "metadata": {},
     "output_type": "execute_result"
    }
   ],
   "source": [
    "xdata = np.asarray(x)\n",
    "ydata = np.asarray(y)\n",
    "\n",
    "def func(x, a, b, c):\n",
    "    return a * np.exp(-b*x)+c\n",
    "\n",
    "coeffs, _ = curve_fit(func, xdata, ydata)\n",
    "coeffs"
   ]
  },
  {
   "cell_type": "code",
   "execution_count": 87,
   "metadata": {},
   "outputs": [
    {
     "data": {
      "image/png": "[encoded data removed]",
      "text/plain": [
       "<Figure size 432x288 with 1 Axes>"
      ]
     },
     "metadata": {},
     "output_type": "display_data"
    }
   ],
   "source": [
    "y = func(xdata, *coeffs)\n",
    "plt.plot(xdata, ydata, 'r-')\n",
    "plt.scatter(x,y)\n",
    "plt.show()"
   ]
  },
  {
   "cell_type": "markdown",
   "metadata": {},
   "source": [
    "This is a good fit. Incase I clear the output above, the fitted function is y = 1.542 * e^(-3.729 * x) -0.569. To solve for x given y, we can use x = ln(|(y + 0.569)/1.542|)/3.729"
   ]
  },
  {
   "cell_type": "code",
   "execution_count": 88,
   "metadata": {},
   "outputs": [
    {
     "data": {
      "text/plain": [
       "0.485503792052886"
      ]
     },
     "execution_count": 88,
     "metadata": {},
     "output_type": "execute_result"
    }
   ],
   "source": [
    "import math\n",
    "\n",
    "a,b,c = [ 1.54231921, -3.72946466, -0.56943039]\n",
    "\n",
    "def findEta(kt):\n",
    "    return(math.log(abs((kt+c)/a)) / abs(b) )\n",
    "\n",
    "findEta(10)"
   ]
  },
  {
   "cell_type": "code",
   "execution_count": null,
   "metadata": {},
   "outputs": [],
   "source": []
  }
 ],
 "metadata": {
  "kernelspec": {
   "display_name": "Python 3",
   "language": "python",
   "name": "python3"
  },
  "language_info": {
   "codemirror_mode": {
    "name": "ipython",
    "version": 3
   },
   "file_extension": ".py",
   "mimetype": "text/x-python",
   "name": "python",
   "nbconvert_exporter": "python",
   "pygments_lexer": "ipython3",
   "version": "3.6.5"
  }
 },
 "nbformat": 4,
 "nbformat_minor": 2
}
