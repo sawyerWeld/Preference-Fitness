{
 "cells": [
  {
   "cell_type": "markdown",
   "metadata": {},
   "source": [
    "## Measuring the divergence in empirical and theoretical probabilities of permutations using squared difference"
   ]
  },
  {
   "cell_type": "markdown",
   "metadata": {},
   "source": [
    "$$\n",
    "\\Delta(a, b) = \\sum_{i}(Prob(i, a) - Prob(j, a))^2\n",
    "$$"
   ]
  },
  {
   "cell_type": "code",
   "execution_count": 1,
   "metadata": {},
   "outputs": [
    {
     "name": "stdout",
     "output_type": "stream",
     "text": [
      "importing Jupyter notebook from Mallows_Notebook.ipynb\n",
      "importing Jupyter notebook from PL_Notebook.ipynb\n",
      "0.125\n"
     ]
    }
   ],
   "source": [
    "import import_ipynb\n",
    "from Mallows_Notebook import *\n",
    "from PL_Notebook import *\n",
    "import metropolis\n",
    "import math\n",
    "from tqdm import tqdm_notebook\n",
    "import itertools"
   ]
  },
  {
   "cell_type": "code",
   "execution_count": 122,
   "metadata": {
    "scrolled": true
   },
   "outputs": [
    {
     "name": "stdout",
     "output_type": "stream",
     "text": [
      "Projected Time = 1200.0 seconds, which is ~ 20.0 minutes\n"
     ]
    },
    {
     "data": {
      "application/vnd.jupyter.widget-view+json": {
       "model_id": "b524720202d64e3aae87f0d493a264df",
       "version_major": 2,
       "version_minor": 0
      },
      "text/plain": [
       "HBox(children=(IntProgress(value=0, description='All Files', max=7), HTML(value='')))"
      ]
     },
     "metadata": {},
     "output_type": "display_data"
    },
    {
     "name": "stdout",
     "output_type": "stream",
     "text": [
      "475\n"
     ]
    },
    {
     "data": {
      "application/vnd.jupyter.widget-view+json": {
       "model_id": "fd72db8191a84a1e901e92a45c0740eb",
       "version_major": 2,
       "version_minor": 0
      },
      "text/plain": [
       "HBox(children=(IntProgress(value=0, description='mallowsCost', max=10000), HTML(value='')))"
      ]
     },
     "metadata": {},
     "output_type": "display_data"
    },
    {
     "data": {
      "application/vnd.jupyter.widget-view+json": {
       "model_id": "c9be906552fb40de80352109fcc171b9",
       "version_major": 2,
       "version_minor": 0
      },
      "text/plain": [
       "HBox(children=(IntProgress(value=0, description='plackettCost', max=10000), HTML(value='')))"
      ]
     },
     "metadata": {},
     "output_type": "display_data"
    },
    {
     "name": "stdout",
     "output_type": "stream",
     "text": [
      "488\n"
     ]
    },
    {
     "data": {
      "application/vnd.jupyter.widget-view+json": {
       "model_id": "534b0d384dbd4dde943aeb744c80be3b",
       "version_major": 2,
       "version_minor": 0
      },
      "text/plain": [
       "HBox(children=(IntProgress(value=0, description='mallowsCost', max=10000), HTML(value='')))"
      ]
     },
     "metadata": {},
     "output_type": "display_data"
    },
    {
     "data": {
      "application/vnd.jupyter.widget-view+json": {
       "model_id": "8eb3bad750fe4d47a76320677f4676f6",
       "version_major": 2,
       "version_minor": 0
      },
      "text/plain": [
       "HBox(children=(IntProgress(value=0, description='plackettCost', max=10000), HTML(value='')))"
      ]
     },
     "metadata": {},
     "output_type": "display_data"
    },
    {
     "name": "stdout",
     "output_type": "stream",
     "text": [
      "504\n"
     ]
    },
    {
     "data": {
      "application/vnd.jupyter.widget-view+json": {
       "model_id": "fcf45703ad8e43629bea07bf0b869336",
       "version_major": 2,
       "version_minor": 0
      },
      "text/plain": [
       "HBox(children=(IntProgress(value=0, description='mallowsCost', max=10000), HTML(value='')))"
      ]
     },
     "metadata": {},
     "output_type": "display_data"
    },
    {
     "data": {
      "application/vnd.jupyter.widget-view+json": {
       "model_id": "844eab824fca4a79a58e42953b2329d9",
       "version_major": 2,
       "version_minor": 0
      },
      "text/plain": [
       "HBox(children=(IntProgress(value=0, description='plackettCost', max=10000), HTML(value='')))"
      ]
     },
     "metadata": {},
     "output_type": "display_data"
    },
    {
     "name": "stdout",
     "output_type": "stream",
     "text": [
      "421\n"
     ]
    },
    {
     "data": {
      "application/vnd.jupyter.widget-view+json": {
       "model_id": "96e1a389829349eda4aa8ca7f23074a1",
       "version_major": 2,
       "version_minor": 0
      },
      "text/plain": [
       "HBox(children=(IntProgress(value=0, description='mallowsCost', max=10000), HTML(value='')))"
      ]
     },
     "metadata": {},
     "output_type": "display_data"
    },
    {
     "data": {
      "application/vnd.jupyter.widget-view+json": {
       "model_id": "5efdea54e3c04e43b2784ec72f6e3c9c",
       "version_major": 2,
       "version_minor": 0
      },
      "text/plain": [
       "HBox(children=(IntProgress(value=0, description='plackettCost', max=10000), HTML(value='')))"
      ]
     },
     "metadata": {},
     "output_type": "display_data"
    },
    {
     "name": "stdout",
     "output_type": "stream",
     "text": [
      "482\n"
     ]
    },
    {
     "data": {
      "application/vnd.jupyter.widget-view+json": {
       "model_id": "af88d81a4e1d409bbd9b237bb245d011",
       "version_major": 2,
       "version_minor": 0
      },
      "text/plain": [
       "HBox(children=(IntProgress(value=0, description='mallowsCost', max=10000), HTML(value='')))"
      ]
     },
     "metadata": {},
     "output_type": "display_data"
    },
    {
     "data": {
      "application/vnd.jupyter.widget-view+json": {
       "model_id": "341d429f2dc3478d8d04030a334ba47b",
       "version_major": 2,
       "version_minor": 0
      },
      "text/plain": [
       "HBox(children=(IntProgress(value=0, description='plackettCost', max=10000), HTML(value='')))"
      ]
     },
     "metadata": {},
     "output_type": "display_data"
    },
    {
     "name": "stdout",
     "output_type": "stream",
     "text": [
      "436\n"
     ]
    },
    {
     "data": {
      "application/vnd.jupyter.widget-view+json": {
       "model_id": "acda838dcb224a7f8375b3120f287033",
       "version_major": 2,
       "version_minor": 0
      },
      "text/plain": [
       "HBox(children=(IntProgress(value=0, description='mallowsCost', max=10000), HTML(value='')))"
      ]
     },
     "metadata": {},
     "output_type": "display_data"
    },
    {
     "data": {
      "application/vnd.jupyter.widget-view+json": {
       "model_id": "193b8baca8ae4e039b6a6024762a54ec",
       "version_major": 2,
       "version_minor": 0
      },
      "text/plain": [
       "HBox(children=(IntProgress(value=0, description='plackettCost', max=10000), HTML(value='')))"
      ]
     },
     "metadata": {},
     "output_type": "display_data"
    },
    {
     "name": "stdout",
     "output_type": "stream",
     "text": [
      "403\n"
     ]
    },
    {
     "data": {
      "application/vnd.jupyter.widget-view+json": {
       "model_id": "28286604311b418187cc156f45fe526c",
       "version_major": 2,
       "version_minor": 0
      },
      "text/plain": [
       "HBox(children=(IntProgress(value=0, description='mallowsCost', max=10000), HTML(value='')))"
      ]
     },
     "metadata": {},
     "output_type": "display_data"
    },
    {
     "data": {
      "application/vnd.jupyter.widget-view+json": {
       "model_id": "26306597743d4de792c1846f211f7bed",
       "version_major": 2,
       "version_minor": 0
      },
      "text/plain": [
       "HBox(children=(IntProgress(value=0, description='plackettCost', max=10000), HTML(value='')))"
      ]
     },
     "metadata": {},
     "output_type": "display_data"
    }
   ],
   "source": [
    "files = ['ED-00002-00000001.soi',\\\n",
    "         'ED-00002-00000002.soi',\\\n",
    "         'ED-00002-00000003.soi',\\\n",
    "         'ED-00002-00000004.soi',\\\n",
    "         'ED-00002-00000005.soi',\\\n",
    "         'ED-00002-00000006.soi',\\\n",
    "         'ED-00002-00000007.soi']\n",
    "\n",
    "list_of_votes = []\n",
    "mallows_params = []\n",
    "pl_params = []\n",
    "\n",
    "nruns = 10_000\n",
    "\n",
    "print('Projected Time =',120/1000.0 * nruns,'seconds, which is ~', 2/1000.0 * nruns, 'minutes')\n",
    "\n",
    "for file in tqdm_notebook(files,desc = 'All Files'):\n",
    "    _, lengths, num_votes, votes = readPreflib.soiInputwithNumVotes('preflib_soi/'+file)\n",
    "    print(num_votes)\n",
    "    list_of_votes.append((num_votes, lengths, votes))\n",
    "    p_mal = runMallows(votes, nruns, lengths)\n",
    "    mallows_params.append(p_mal)\n",
    "    p_pl = runPL(votes, nruns, lengths)\n",
    "    pl_params.append(p_pl)"
   ]
  },
  {
   "cell_type": "code",
   "execution_count": 3,
   "metadata": {},
   "outputs": [],
   "source": [
    "# mallows_params\n",
    "# prob pickle things here"
   ]
  },
  {
   "cell_type": "code",
   "execution_count": 84,
   "metadata": {},
   "outputs": [
    {
     "name": "stdout",
     "output_type": "stream",
     "text": [
      "1\n",
      "2\n",
      "3\n",
      "4\n"
     ]
    },
    {
     "data": {
      "text/plain": [
       "64"
      ]
     },
     "execution_count": 84,
     "metadata": {},
     "output_type": "execute_result"
    }
   ],
   "source": [
    "_,_,temp = list_of_votes[0]\n",
    "known = [tuple(x) for x in list(zip(*temp))[1]]\n",
    "pos = all_possible_votes(4)\n",
    "len(pos)\n",
    "# [x for x in pos if x not in known]\n",
    "# len(known)"
   ]
  },
  {
   "cell_type": "code",
   "execution_count": 106,
   "metadata": {},
   "outputs": [
    {
     "data": {
      "text/plain": [
       "986409"
      ]
     },
     "execution_count": 106,
     "metadata": {},
     "output_type": "execute_result"
    }
   ],
   "source": [
    "def all_possible_votes(n):\n",
    "    all_votes = []\n",
    "    for i in range(1,n+1):\n",
    "        # print(i)\n",
    "        sub = list(itertools.permutations(range(1,n+1),i))\n",
    "        #sub = itertools.permutations(range(1,i+1))\n",
    "        for p in sub:\n",
    "            all_votes.append(p)\n",
    "    return all_votes\n",
    "\n",
    "len(all_possible_votes(9))"
   ]
  },
  {
   "cell_type": "code",
   "execution_count": 123,
   "metadata": {},
   "outputs": [
    {
     "data": {
      "application/vnd.jupyter.widget-view+json": {
       "model_id": "6a37b66cbfe54caeaa0296b27a8030e6",
       "version_major": 2,
       "version_minor": 0
      },
      "text/plain": [
       "HBox(children=(IntProgress(value=0, max=7), HTML(value='')))"
      ]
     },
     "metadata": {},
     "output_type": "display_data"
    },
    {
     "data": {
      "application/vnd.jupyter.widget-view+json": {
       "model_id": "fdfe915445ce43458833df377e319522",
       "version_major": 2,
       "version_minor": 0
      },
      "text/plain": [
       "HBox(children=(IntProgress(value=0, max=64), HTML(value='')))"
      ]
     },
     "metadata": {},
     "output_type": "display_data"
    },
    {
     "data": {
      "application/vnd.jupyter.widget-view+json": {
       "model_id": "9aeb19fb4f684e85bd63760fa7b7761f",
       "version_major": 2,
       "version_minor": 0
      },
      "text/plain": [
       "HBox(children=(IntProgress(value=0, max=325), HTML(value='')))"
      ]
     },
     "metadata": {},
     "output_type": "display_data"
    },
    {
     "data": {
      "application/vnd.jupyter.widget-view+json": {
       "model_id": "91f3b9df91454ac4a3cbe28fd5f4e2f5",
       "version_major": 2,
       "version_minor": 0
      },
      "text/plain": [
       "HBox(children=(IntProgress(value=0, max=13699), HTML(value='')))"
      ]
     },
     "metadata": {},
     "output_type": "display_data"
    },
    {
     "data": {
      "application/vnd.jupyter.widget-view+json": {
       "model_id": "e504c4d77b664132a1d909c0e55e7f96",
       "version_major": 2,
       "version_minor": 0
      },
      "text/plain": [
       "HBox(children=(IntProgress(value=0, max=109600), HTML(value='')))"
      ]
     },
     "metadata": {},
     "output_type": "display_data"
    },
    {
     "data": {
      "application/vnd.jupyter.widget-view+json": {
       "model_id": "fa292d157c3142ebbb00a6a7dbef42ef",
       "version_major": 2,
       "version_minor": 0
      },
      "text/plain": [
       "HBox(children=(IntProgress(value=0, max=986409), HTML(value='')))"
      ]
     },
     "metadata": {},
     "output_type": "display_data"
    },
    {
     "data": {
      "application/vnd.jupyter.widget-view+json": {
       "model_id": "e400725cd00944e99d93d6fbeb198e24",
       "version_major": 2,
       "version_minor": 0
      },
      "text/plain": [
       "HBox(children=(IntProgress(value=0, max=325), HTML(value='')))"
      ]
     },
     "metadata": {},
     "output_type": "display_data"
    },
    {
     "data": {
      "application/vnd.jupyter.widget-view+json": {
       "model_id": "fe8bb1be195e44df90238a2755ed9083",
       "version_major": 2,
       "version_minor": 0
      },
      "text/plain": [
       "HBox(children=(IntProgress(value=0, max=64), HTML(value='')))"
      ]
     },
     "metadata": {},
     "output_type": "display_data"
    }
   ],
   "source": [
    "def squaredDif(a, b):\n",
    "    return (a - b)**2\n",
    "\n",
    "table = []\n",
    "col_names = ['Number_Votes','Mallow\\'s_Divergence','Plackett-Luce_Divergence']\n",
    "\n",
    "for i in tqdm_notebook(range(len(list_of_votes))):\n",
    "    num_votes, lengths, votes = list_of_votes[i]\n",
    "    num_alternatives = len(lengths)\n",
    "    sigma, phi = mallows_params[i]\n",
    "    pl_weights = pl_params[i]\n",
    "    \n",
    "    delta_mallows = 0\n",
    "    delta_plackett = 0\n",
    "       \n",
    "    freq_list = list(zip(*votes))[0]\n",
    "    known_votes = [tuple(x) for x in list(zip(*votes))[1]]\n",
    "    # possibles = all_possible_votes(num_alternatives)\n",
    "    # empirical_zero = [x for x in possibles if x not in known_votes]\n",
    "    \n",
    "    for vote in tqdm_notebook(all_possible_votes(num_alternatives)):\n",
    "        if (vote in known_votes):\n",
    "            index = known_votes.index(vote)\n",
    "            num_occurances = freq_list[index]\n",
    "            \n",
    "            empirical = num_occurances / num_votes\n",
    "            mallows = mallowsProb(vote, sigma, phi)\n",
    "            plackett = probPlackett(vote, pl_weights)\n",
    "            delta_mallows += squaredDif(mallows, empirical)\n",
    "            delta_plackett += squaredDif(plackett, empirical)\n",
    "            # print(vote)\n",
    "        else:\n",
    "            empirical = 0\n",
    "            mallows = mallowsProb(vote, sigma, phi)\n",
    "            plackett = probPlackett(vote, pl_weights)\n",
    "            delta_mallows += squaredDif(mallows, empirical)\n",
    "            delta_plackett += squaredDif(plackett, empirical)\n",
    "    \n",
    "#     for entry in votes:\n",
    "#         num_occurances, vote = entry\n",
    "#         empirical = num_occurances / num_votes\n",
    "#         mallows = mallowsProb(vote, sigma, phi)\n",
    "#         plackett = probPlackett(vote, pl_weights)\n",
    "#         delta_mallows += squaredDif(mallows, empirical)\n",
    "#         delta_plackett += squaredDif(plackett, empirical)\n",
    "    \n",
    "    table.append([num_votes, delta_mallows, delta_plackett])"
   ]
  },
  {
   "cell_type": "code",
   "execution_count": 121,
   "metadata": {
    "scrolled": true
   },
   "outputs": [
    {
     "data": {
      "text/html": [
       "<div>\n",
       "<style scoped>\n",
       "    .dataframe tbody tr th:only-of-type {\n",
       "        vertical-align: middle;\n",
       "    }\n",
       "\n",
       "    .dataframe tbody tr th {\n",
       "        vertical-align: top;\n",
       "    }\n",
       "\n",
       "    .dataframe thead th {\n",
       "        text-align: right;\n",
       "    }\n",
       "</style>\n",
       "<table border=\"1\" class=\"dataframe\">\n",
       "  <thead>\n",
       "    <tr style=\"text-align: right;\">\n",
       "      <th></th>\n",
       "      <th>Number_Votes</th>\n",
       "      <th>Mallow's_Divergence</th>\n",
       "      <th>Plackett-Luce_Divergence</th>\n",
       "    </tr>\n",
       "  </thead>\n",
       "  <tbody>\n",
       "    <tr>\n",
       "      <th>1</th>\n",
       "      <td>475.0</td>\n",
       "      <td>174.215031</td>\n",
       "      <td>7.611627</td>\n",
       "    </tr>\n",
       "    <tr>\n",
       "      <th>2</th>\n",
       "      <td>488.0</td>\n",
       "      <td>346.827948</td>\n",
       "      <td>12.153691</td>\n",
       "    </tr>\n",
       "    <tr>\n",
       "      <th>3</th>\n",
       "      <td>504.0</td>\n",
       "      <td>1959.246290</td>\n",
       "      <td>25.402140</td>\n",
       "    </tr>\n",
       "    <tr>\n",
       "      <th>4</th>\n",
       "      <td>421.0</td>\n",
       "      <td>378.245615</td>\n",
       "      <td>35.397885</td>\n",
       "    </tr>\n",
       "    <tr>\n",
       "      <th>5</th>\n",
       "      <td>482.0</td>\n",
       "      <td>0.003254</td>\n",
       "      <td>49.198400</td>\n",
       "    </tr>\n",
       "    <tr>\n",
       "      <th>6</th>\n",
       "      <td>436.0</td>\n",
       "      <td>457.011069</td>\n",
       "      <td>11.920176</td>\n",
       "    </tr>\n",
       "    <tr>\n",
       "      <th>7</th>\n",
       "      <td>403.0</td>\n",
       "      <td>105.247859</td>\n",
       "      <td>7.541067</td>\n",
       "    </tr>\n",
       "  </tbody>\n",
       "</table>\n",
       "</div>"
      ],
      "text/plain": [
       "   Number_Votes  Mallow's_Divergence  Plackett-Luce_Divergence\n",
       "1         475.0           174.215031                  7.611627\n",
       "2         488.0           346.827948                 12.153691\n",
       "3         504.0          1959.246290                 25.402140\n",
       "4         421.0           378.245615                 35.397885\n",
       "5         482.0             0.003254                 49.198400\n",
       "6         436.0           457.011069                 11.920176\n",
       "7         403.0           105.247859                  7.541067"
      ]
     },
     "execution_count": 121,
     "metadata": {},
     "output_type": "execute_result"
    }
   ],
   "source": [
    "import pandas as pd\n",
    "\n",
    "npdata = np.array(table)\n",
    "results_df = pd.DataFrame(data=npdata,columns=col_names)\n",
    "results_df.index += 1\n",
    "# pickle.dump(results_df, open('pickle/divergence10k.p','wb'))\n",
    "results_df"
   ]
  },
  {
   "cell_type": "code",
   "execution_count": 54,
   "metadata": {},
   "outputs": [
    {
     "name": "stdout",
     "output_type": "stream",
     "text": [
      "[(1, 2, 3), (1, 3, 2), (2, 1, 3), (2, 3, 1), (3, 1, 2), (3, 2, 1)]\n"
     ]
    },
    {
     "data": {
      "text/plain": [
       "True"
      ]
     },
     "execution_count": 54,
     "metadata": {},
     "output_type": "execute_result"
    }
   ],
   "source": [
    "perms = list(itertools.permutations([1,2,3]))\n",
    "print(perms)\n",
    "(1,2,3) in perms"
   ]
  },
  {
   "cell_type": "code",
   "execution_count": null,
   "metadata": {},
   "outputs": [],
   "source": [
    "pickle.dump([mallows_params, pl_params, table], open('/pickle/11-14-201810ks', 'wb'))"
   ]
  }
 ],
 "metadata": {
  "kernelspec": {
   "display_name": "Python 3",
   "language": "python",
   "name": "python3"
  },
  "language_info": {
   "codemirror_mode": {
    "name": "ipython",
    "version": 3
   },
   "file_extension": ".py",
   "mimetype": "text/x-python",
   "name": "python",
   "nbconvert_exporter": "python",
   "pygments_lexer": "ipython3",
   "version": "3.6.5"
  }
 },
 "nbformat": 4,
 "nbformat_minor": 2
}
