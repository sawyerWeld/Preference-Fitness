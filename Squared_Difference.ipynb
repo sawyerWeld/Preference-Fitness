{
 "cells": [
  {
   "cell_type": "markdown",
   "metadata": {},
   "source": [
    "## Measuring the divergence in empirical and theoretical probabilities of permutations using squared difference"
   ]
  },
  {
   "cell_type": "markdown",
   "metadata": {},
   "source": [
    "$$\n",
    "\\Delta(a, b) = \\sum_{i}(Prob(i, a) - Prob(j, a))^2\n",
    "$$"
   ]
  },
  {
   "cell_type": "code",
   "execution_count": 1,
   "metadata": {},
   "outputs": [
    {
     "name": "stdout",
     "output_type": "stream",
     "text": [
      "importing Jupyter notebook from Mallows_Notebook.ipynb\n",
      "importing Jupyter notebook from PL_Notebook.ipynb\n",
      "PL loaded\n"
     ]
    }
   ],
   "source": [
    "import import_ipynb\n",
    "from Mallows_Notebook import *\n",
    "from PL_Notebook import *\n",
    "import metropolis\n",
    "import math\n",
    "from tqdm import tqdm_notebook\n",
    "import itertools"
   ]
  },
  {
   "cell_type": "code",
   "execution_count": null,
   "metadata": {},
   "outputs": [],
   "source": [
    "import os\n",
    "netflix = os.listdir('netflix_soc')\n",
    "files = ['netflix_soc/' + x for x in netflix]"
   ]
  },
  {
   "cell_type": "code",
   "execution_count": 16,
   "metadata": {},
   "outputs": [],
   "source": [
    "irish = [#'ED-00001-00000001.soi',\\\n",
    "         'ED-00001-00000001.soi',\\\n",
    "         #'ED-00001-00000003.soi',]\n",
    "        ]\n",
    "\n",
    "files = ['irish_soi/' + x for x in irish]"
   ]
  },
  {
   "cell_type": "code",
   "execution_count": null,
   "metadata": {},
   "outputs": [],
   "source": [
    "files = ['ED-00002-00000001.soi',\\\n",
    "         'ED-00002-00000002.soi',\\\n",
    "         'ED-00002-00000003.soi',\\\n",
    "         'ED-00002-00000004.soi',\\\n",
    "         'ED-00002-00000005.soi',\\\n",
    "         'ED-00002-00000006.soi',\\\n",
    "         'ED-00002-00000007.soi']\n",
    "\n",
    "files = ['preflib_soi/' + x for x in files]"
   ]
  },
  {
   "cell_type": "code",
   "execution_count": 17,
   "metadata": {
    "scrolled": true
   },
   "outputs": [
    {
     "name": "stdout",
     "output_type": "stream",
     "text": [
      "Projected Time = 1200.0 seconds, which is ~ 20.0 minutes\n"
     ]
    },
    {
     "data": {
      "application/vnd.jupyter.widget-view+json": {
       "model_id": "9bd7d53e54b14e918eab2127da073cd8",
       "version_major": 2,
       "version_minor": 0
      },
      "text/plain": [
       "HBox(children=(IntProgress(value=0, description='All Files', max=1), HTML(value='')))"
      ]
     },
     "metadata": {},
     "output_type": "display_data"
    },
    {
     "name": "stdout",
     "output_type": "stream",
     "text": [
      "irish_soi/ED-00001-00000001.soi\n"
     ]
    },
    {
     "data": {
      "application/vnd.jupyter.widget-view+json": {
       "model_id": "1c96a99a5592483aa5da6976295098f5",
       "version_major": 2,
       "version_minor": 0
      },
      "text/plain": [
       "HBox(children=(IntProgress(value=0, description='mallowsCostComplete', max=10000), HTML(value='')))"
      ]
     },
     "metadata": {},
     "output_type": "display_data"
    },
    {
     "data": {
      "application/vnd.jupyter.widget-view+json": {
       "model_id": "79e5d8008adb4b2586452d7803bedef8",
       "version_major": 2,
       "version_minor": 0
      },
      "text/plain": [
       "HBox(children=(IntProgress(value=0, description='plackettCostComplete', max=10000), HTML(value='')))"
      ]
     },
     "metadata": {},
     "output_type": "display_data"
    },
    {
     "name": "stdout",
     "output_type": "stream",
     "text": [
      "\n"
     ]
    }
   ],
   "source": [
    "list_of_votes = []\n",
    "mallows_params = []\n",
    "pl_params = []\n",
    "\n",
    "nruns = 10_000\n",
    "\n",
    "# print(files[0])\n",
    "\n",
    "print('Projected Time =',120/1000.0 * nruns,'seconds, which is ~', 2/1000.0 * nruns, 'minutes')\n",
    "for file in tqdm_notebook(files,desc = 'All Files'):\n",
    "    print(file)\n",
    "    _, lengths, num_votes, votes = readPreflib.soiInputwithNumVotes(file)\n",
    "    # print(num_votes)\n",
    "    # print(list(lengths.keys()))\n",
    "    list_of_votes.append((num_votes, lengths, votes))\n",
    "    # print(list_of_votes[0])\n",
    "    p_mal = runMallows(votes, nruns, lengths, complete=True)\n",
    "    mallows_params.append(p_mal)\n",
    "    p_pl = runPL(votes, nruns, lengths,complete=True)\n",
    "    pl_params.append(p_pl)"
   ]
  },
  {
   "cell_type": "code",
   "execution_count": 19,
   "metadata": {},
   "outputs": [
    {
     "data": {
      "text/plain": [
       "([[array([1, 2, 3]), 0.026104278367001077]],\n",
       " [array([0.03406422, 0.07380935, 0.27913067, 0.18167261, 0.13855618,\n",
       "         0.08574646, 0.04970188, 0.03203864, 0.01561149, 0.01538392,\n",
       "         0.01479098, 0.0794936 ])])"
      ]
     },
     "execution_count": 19,
     "metadata": {},
     "output_type": "execute_result"
    }
   ],
   "source": [
    "mallows_params, pl_params\n",
    "pickle.dump([mallows_params, pl_params], open('pickle/ireland_00000001soi_params.p','wb'))\n",
    "# prob pickle things here\n",
    "mallows_params, pl_params"
   ]
  },
  {
   "cell_type": "code",
   "execution_count": 11,
   "metadata": {},
   "outputs": [
    {
     "data": {
      "text/plain": [
       "81528056"
      ]
     },
     "execution_count": 11,
     "metadata": {},
     "output_type": "execute_result"
    }
   ],
   "source": [
    "def all_possible_votes(n):\n",
    "    all_votes = []\n",
    "    for i in range(1,n+1):\n",
    "        # print(i)\n",
    "        sub = list(itertools.permutations(range(1,n+1),i))\n",
    "        #sub = itertools.permutations(range(1,i+1))\n",
    "        for p in sub:\n",
    "            all_votes.append(p)\n",
    "    return all_votes\n",
    "import sys\n",
    "sys.getsizeof(all_possible_votes(10))"
   ]
  },
  {
   "cell_type": "code",
   "execution_count": 12,
   "metadata": {},
   "outputs": [
    {
     "data": {
      "text/plain": [
       "64"
      ]
     },
     "execution_count": 12,
     "metadata": {},
     "output_type": "execute_result"
    }
   ],
   "source": [
    "_,_,temp = list_of_votes[0]\n",
    "known = [tuple(x) for x in list(zip(*temp))[1]]\n",
    "pos = all_possible_votes(4)\n",
    "len(pos)\n",
    "# [x for x in pos if x not in known]\n",
    "# len(known)"
   ]
  },
  {
   "cell_type": "code",
   "execution_count": 20,
   "metadata": {},
   "outputs": [
    {
     "data": {
      "application/vnd.jupyter.widget-view+json": {
       "model_id": "cb81e97c21b9454c9e8177aea6d96d9f",
       "version_major": 2,
       "version_minor": 0
      },
      "text/plain": [
       "HBox(children=(IntProgress(value=0, max=1), HTML(value='')))"
      ]
     },
     "metadata": {},
     "output_type": "display_data"
    },
    {
     "ename": "MemoryError",
     "evalue": "",
     "output_type": "error",
     "traceback": [
      "\u001b[1;31m---------------------------------------------------------------------------\u001b[0m",
      "\u001b[1;31mMemoryError\u001b[0m                               Traceback (most recent call last)",
      "\u001b[1;32m<ipython-input-20-880f8d67956b>\u001b[0m in \u001b[0;36m<module>\u001b[1;34m()\u001b[0m\n\u001b[0;32m     19\u001b[0m     \u001b[1;31m# empirical_zero = [x for x in possibles if x not in known_votes]\u001b[0m\u001b[1;33m\u001b[0m\u001b[1;33m\u001b[0m\u001b[0m\n\u001b[0;32m     20\u001b[0m \u001b[1;33m\u001b[0m\u001b[0m\n\u001b[1;32m---> 21\u001b[1;33m     \u001b[1;32mfor\u001b[0m \u001b[0mvote\u001b[0m \u001b[1;32min\u001b[0m \u001b[0mtqdm_notebook\u001b[0m\u001b[1;33m(\u001b[0m\u001b[0mall_possible_votes\u001b[0m\u001b[1;33m(\u001b[0m\u001b[0mnum_alternatives\u001b[0m\u001b[1;33m)\u001b[0m\u001b[1;33m)\u001b[0m\u001b[1;33m:\u001b[0m\u001b[1;33m\u001b[0m\u001b[0m\n\u001b[0m\u001b[0;32m     22\u001b[0m         \u001b[1;32mif\u001b[0m \u001b[1;33m(\u001b[0m\u001b[0mvote\u001b[0m \u001b[1;32min\u001b[0m \u001b[0mknown_votes\u001b[0m\u001b[1;33m)\u001b[0m\u001b[1;33m:\u001b[0m\u001b[1;33m\u001b[0m\u001b[0m\n\u001b[0;32m     23\u001b[0m             \u001b[0mindex\u001b[0m \u001b[1;33m=\u001b[0m \u001b[0mknown_votes\u001b[0m\u001b[1;33m.\u001b[0m\u001b[0mindex\u001b[0m\u001b[1;33m(\u001b[0m\u001b[0mvote\u001b[0m\u001b[1;33m)\u001b[0m\u001b[1;33m\u001b[0m\u001b[0m\n",
      "\u001b[1;32m<ipython-input-11-86282088703f>\u001b[0m in \u001b[0;36mall_possible_votes\u001b[1;34m(n)\u001b[0m\n\u001b[0;32m      3\u001b[0m     \u001b[1;32mfor\u001b[0m \u001b[0mi\u001b[0m \u001b[1;32min\u001b[0m \u001b[0mrange\u001b[0m\u001b[1;33m(\u001b[0m\u001b[1;36m1\u001b[0m\u001b[1;33m,\u001b[0m\u001b[0mn\u001b[0m\u001b[1;33m+\u001b[0m\u001b[1;36m1\u001b[0m\u001b[1;33m)\u001b[0m\u001b[1;33m:\u001b[0m\u001b[1;33m\u001b[0m\u001b[0m\n\u001b[0;32m      4\u001b[0m         \u001b[1;31m# print(i)\u001b[0m\u001b[1;33m\u001b[0m\u001b[1;33m\u001b[0m\u001b[0m\n\u001b[1;32m----> 5\u001b[1;33m         \u001b[0msub\u001b[0m \u001b[1;33m=\u001b[0m \u001b[0mlist\u001b[0m\u001b[1;33m(\u001b[0m\u001b[0mitertools\u001b[0m\u001b[1;33m.\u001b[0m\u001b[0mpermutations\u001b[0m\u001b[1;33m(\u001b[0m\u001b[0mrange\u001b[0m\u001b[1;33m(\u001b[0m\u001b[1;36m1\u001b[0m\u001b[1;33m,\u001b[0m\u001b[0mn\u001b[0m\u001b[1;33m+\u001b[0m\u001b[1;36m1\u001b[0m\u001b[1;33m)\u001b[0m\u001b[1;33m,\u001b[0m\u001b[0mi\u001b[0m\u001b[1;33m)\u001b[0m\u001b[1;33m)\u001b[0m\u001b[1;33m\u001b[0m\u001b[0m\n\u001b[0m\u001b[0;32m      6\u001b[0m         \u001b[1;31m#sub = itertools.permutations(range(1,i+1))\u001b[0m\u001b[1;33m\u001b[0m\u001b[1;33m\u001b[0m\u001b[0m\n\u001b[0;32m      7\u001b[0m         \u001b[1;32mfor\u001b[0m \u001b[0mp\u001b[0m \u001b[1;32min\u001b[0m \u001b[0msub\u001b[0m\u001b[1;33m:\u001b[0m\u001b[1;33m\u001b[0m\u001b[0m\n",
      "\u001b[1;31mMemoryError\u001b[0m: "
     ]
    }
   ],
   "source": [
    "def squaredDif(a, b):\n",
    "    return (a - b)**2\n",
    "\n",
    "table = []\n",
    "col_names = ['Number_Votes','Mallow\\'s_Divergence','Plackett-Luce_Divergence']\n",
    "\n",
    "for i in tqdm_notebook(range(len(list_of_votes))):\n",
    "    num_votes, lengths, votes = list_of_votes[i]\n",
    "    num_alternatives = len(lengths)\n",
    "    sigma, phi = mallows_params[i]\n",
    "    pl_weights = pl_params[i]\n",
    "    \n",
    "    delta_mallows = 0\n",
    "    delta_plackett = 0\n",
    "       \n",
    "    freq_list = list(zip(*votes))[0]\n",
    "    known_votes = [tuple(x) for x in list(zip(*votes))[1]]\n",
    "    # possibles = all_possible_votes(num_alternatives)\n",
    "    # empirical_zero = [x for x in possibles if x not in known_votes]\n",
    "    \n",
    "    for vote in tqdm_notebook(all_possible_votes(num_alternatives)):\n",
    "        if (vote in known_votes):\n",
    "            index = known_votes.index(vote)\n",
    "            num_occurances = freq_list[index]\n",
    "            \n",
    "            empirical = num_occurances / num_votes\n",
    "            mallows = mallowsProb(vote, sigma, phi)\n",
    "            plackett = probPlackett(vote, pl_weights)\n",
    "            delta_mallows += squaredDif(mallows, empirical)\n",
    "            delta_plackett += squaredDif(plackett, empirical)\n",
    "            # print(vote)\n",
    "        else:\n",
    "            empirical = 0\n",
    "            mallows = mallowsProb(vote, sigma, phi)\n",
    "            plackett = probPlackett(vote, pl_weights)\n",
    "            delta_mallows += squaredDif(mallows, empirical)\n",
    "            delta_plackett += squaredDif(plackett, empirical)\n",
    "    \n",
    "#     for entry in votes:\n",
    "#         num_occurances, vote = entry\n",
    "#         empirical = num_occurances / num_votes\n",
    "#         mallows = mallowsProb(vote, sigma, phi)\n",
    "#         plackett = probPlackett(vote, pl_weights)\n",
    "#         delta_mallows += squaredDif(mallows, empirical)\n",
    "#         delta_plackett += squaredDif(plackett, empirical)\n",
    "    \n",
    "    table.append([num_votes, delta_mallows, delta_plackett])"
   ]
  },
  {
   "cell_type": "code",
   "execution_count": 14,
   "metadata": {
    "scrolled": true
   },
   "outputs": [
    {
     "data": {
      "text/html": [
       "<div>\n",
       "<style scoped>\n",
       "    .dataframe tbody tr th:only-of-type {\n",
       "        vertical-align: middle;\n",
       "    }\n",
       "\n",
       "    .dataframe tbody tr th {\n",
       "        vertical-align: top;\n",
       "    }\n",
       "\n",
       "    .dataframe thead th {\n",
       "        text-align: right;\n",
       "    }\n",
       "</style>\n",
       "<table border=\"1\" class=\"dataframe\">\n",
       "  <thead>\n",
       "    <tr style=\"text-align: right;\">\n",
       "      <th></th>\n",
       "      <th>Number_Votes</th>\n",
       "      <th>Mallow's_Divergence</th>\n",
       "      <th>Plackett-Luce_Divergence</th>\n",
       "    </tr>\n",
       "  </thead>\n",
       "  <tbody>\n",
       "    <tr>\n",
       "      <th>1</th>\n",
       "      <td>29988.0</td>\n",
       "      <td>16145.991197</td>\n",
       "      <td>64.609649</td>\n",
       "    </tr>\n",
       "  </tbody>\n",
       "</table>\n",
       "</div>"
      ],
      "text/plain": [
       "   Number_Votes  Mallow's_Divergence  Plackett-Luce_Divergence\n",
       "1       29988.0         16145.991197                 64.609649"
      ]
     },
     "execution_count": 14,
     "metadata": {},
     "output_type": "execute_result"
    }
   ],
   "source": [
    "import pandas as pd\n",
    "\n",
    "npdata = np.array(table)\n",
    "results_df = pd.DataFrame(data=npdata,columns=col_names)\n",
    "results_df.index += 1\n",
    "# pickle.dump(results_df, open('pickle/divergence10k.p','wb'))\n",
    "results_df"
   ]
  },
  {
   "cell_type": "code",
   "execution_count": null,
   "metadata": {},
   "outputs": [],
   "source": [
    "perms = list(itertools.permutations([1,2,3]))\n",
    "print(perms)\n",
    "(1,2,3) in perms"
   ]
  },
  {
   "cell_type": "code",
   "execution_count": 15,
   "metadata": {},
   "outputs": [],
   "source": [
    "pickle.dump([mallows_params, pl_params, table], open('./pickle/ireland_0001_table_10k.p', 'wb'))"
   ]
  },
  {
   "cell_type": "code",
   "execution_count": null,
   "metadata": {},
   "outputs": [],
   "source": [
    "mallows_params"
   ]
  },
  {
   "cell_type": "code",
   "execution_count": null,
   "metadata": {},
   "outputs": [],
   "source": [
    "pl_params"
   ]
  }
 ],
 "metadata": {
  "kernelspec": {
   "display_name": "Python 3",
   "language": "python",
   "name": "python3"
  },
  "language_info": {
   "codemirror_mode": {
    "name": "ipython",
    "version": 3
   },
   "file_extension": ".py",
   "mimetype": "text/x-python",
   "name": "python",
   "nbconvert_exporter": "python",
   "pygments_lexer": "ipython3",
   "version": "3.6.5"
  }
 },
 "nbformat": 4,
 "nbformat_minor": 2
}
