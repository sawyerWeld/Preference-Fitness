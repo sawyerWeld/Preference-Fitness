{
 "cells": [
  {
   "cell_type": "markdown",
   "metadata": {},
   "source": [
    "## Mallows on Debain 2002"
   ]
  },
  {
   "cell_type": "code",
   "execution_count": 2,
   "metadata": {},
   "outputs": [],
   "source": [
    "import numpy as np\n",
    "from tqdm import tqdm_notebook\n",
    "import math\n",
    "import itertools\n",
    "import readPreflib\n",
    "import metropolis"
   ]
  },
  {
   "cell_type": "markdown",
   "metadata": {},
   "source": [
    "The probability of a given ranking under the mallows model given a reference ranking sigma and a dispersion parameter phi is as follows:\n",
    "\n",
    "$$ P(r | \\sigma , \\phi) = \\frac{1}{Z} e^{-\\phi \\Delta}$$\n",
    "\n",
    "where\n",
    "\n",
    "$$ Z = 1 \\cdot (1 + e^{-\\phi}) \\cdot (1 + e^{-\\phi} + e^{-\\phi^2})  \\dots (1 + \\dots + e^{\\phi^{m-1}})       $$\n",
    "\n",
    "where\n",
    "\n",
    "$$ m = |r| $$"
   ]
  },
  {
   "cell_type": "code",
   "execution_count": 3,
   "metadata": {},
   "outputs": [],
   "source": [
    "def mallowsProb(r, sigma, phi):\n",
    "    return (1.0 / Z(phi, len(r)-1) * math.exp(-1.0 * phi * kt(r, sigma)))\n",
    "\n",
    "# Normalization\n",
    "def Z(phi, m):\n",
    "    product = 1\n",
    "    for i in range(1, m):\n",
    "        part = 0\n",
    "        for j in range(0,i):\n",
    "            part += math.exp(-1 * (phi ** j))\n",
    "        product *= part\n",
    "    return product   \n",
    "\n",
    "# Kendall-Tau Distance\n",
    "def kt(a, b):\n",
    "    unique_set =  np.unique(np.concatenate([a,b]))\n",
    "    pairs = itertools.combinations(unique_set, 2)\n",
    "    count = 0.0\n",
    "    for i, j in pairs:\n",
    "        unknown = False\n",
    "        try:\n",
    "            first = np_index(a, i) - np_index(a, j)\n",
    "            secnd = np_index(b, i) - np_index(b, j)\n",
    "        except:\n",
    "            unknown = True\n",
    "            count += 0.5\n",
    "        if not unknown and (first * secnd < 0):\n",
    "            count += 1\n",
    "    return count"
   ]
  },
  {
   "cell_type": "code",
   "execution_count": 4,
   "metadata": {},
   "outputs": [
    {
     "data": {
      "text/plain": [
       "0.38506033431401987"
      ]
     },
     "execution_count": 4,
     "metadata": {},
     "output_type": "execute_result"
    }
   ],
   "source": [
    "a = np.asarray([1,2,3,4])\n",
    "b = np.asarray([2,3,4,1])\n",
    "mallowsProb(a, b, 0.7)"
   ]
  },
  {
   "cell_type": "markdown",
   "metadata": {},
   "source": [
    "There are votes in the data that are incomplete. We store a vector with the probabily of each length:"
   ]
  },
  {
   "cell_type": "code",
   "execution_count": 6,
   "metadata": {},
   "outputs": [
    {
     "data": {
      "text/plain": [
       "({1: 'Shrek (Full-screen)', 2: 'The X-Files: Season 2', 3: 'The Punisher'},\n",
       " defaultdict(int, {3: 664}),\n",
       " [(263, [2, 1, 3]),\n",
       "  (249, [1, 2, 3]),\n",
       "  (78, [1, 3, 2]),\n",
       "  (46, [2, 3, 1]),\n",
       "  (17, [3, 1, 2]),\n",
       "  (11, [3, 2, 1])])"
      ]
     },
     "execution_count": 6,
     "metadata": {},
     "output_type": "execute_result"
    }
   ],
   "source": [
    "candidates, lengths, votes = readPreflib.soiInputwithWeights('netflix_soc/ED-00004-00000001.soc')\n",
    "candidates, lengths, votes"
   ]
  },
  {
   "cell_type": "code",
   "execution_count": 21,
   "metadata": {},
   "outputs": [],
   "source": [
    "def getLengthProbs(length_counts):\n",
    "    length_probs = []\n",
    "    total_votes = 1.0 * sum(length_counts.values())\n",
    "    for i in range(1,len(length_counts.values())+1):\n",
    "        length_probs.append(length_counts[i] / total_votes)\n",
    "    return length_probs\n",
    "    \n",
    "def probLength(lengths, n):\n",
    "    return lengths[n-1]\n"
   ]
  },
  {
   "cell_type": "markdown",
   "metadata": {},
   "source": [
    "Read in the data"
   ]
  },
  {
   "cell_type": "markdown",
   "metadata": {},
   "source": [
    "The votes come in as tuples that look like\n",
    "- (5, [1,2,3,4,5])\n",
    "- (2, [4,2,1,3])\n",
    "\n",
    "The second term in the tuple is a vote, and the first term is the number of terms that vote occurs.\n",
    "Therefore, the sum of the probabilities of all votes in a dataset given a mallows model is the following:"
   ]
  },
  {
   "cell_type": "code",
   "execution_count": 13,
   "metadata": {},
   "outputs": [],
   "source": [
    "def mallowsCost(params, dataset, lengths):\n",
    "    central_ranking, phi = params\n",
    "    cost = 0\n",
    "    for tup in dataset:\n",
    "        num_occurances, r = tup\n",
    "        cost += probLength(lengths, len(r)) * num_occurances * mallowsProb(r, central_ranking, phi)\n",
    "    return cost\n",
    "\n",
    "def mallowsCostComplete(params, dataset, lengths):\n",
    "    central_ranking, phi = params\n",
    "    cost = 0\n",
    "    for tup in dataset:\n",
    "        num_occurances, r = tup\n",
    "        cost += num_occurances * mallowsProb(r, central_ranking, phi)\n",
    "    return cost\n",
    "\n",
    "# lens = getLengthProbs(length_counts)\n",
    "# mallowsCost(([1,2,3,4],0.5),votes, lens)"
   ]
  },
  {
   "cell_type": "markdown",
   "metadata": {},
   "source": [
    "We need functions to generate new candidates for the Metropolis algorithm"
   ]
  },
  {
   "cell_type": "code",
   "execution_count": 8,
   "metadata": {},
   "outputs": [],
   "source": [
    "def generateMallowsCandidate(params):\n",
    "    sigma, phi = params\n",
    "    new_sigma = generateSigma(sigma)\n",
    "    new_phi = generatePhi(phi)\n",
    "    return [new_sigma, new_phi]\n",
    "\n",
    "def generateSigma(order):\n",
    "    tuning_parameter = 0.25\n",
    "    a = np.random.randint(len(order))\n",
    "    b = np.random.randint(len(order))\n",
    "    order[a], order[b] = order[b], order[a]\n",
    "    while (np.random.uniform(0.0, 1.0) >= tuning_parameter):\n",
    "        a = np.random.randint(len(order))\n",
    "        b = np.random.randint(len(order))\n",
    "        order[a], order[b] = order[b], order[a]\n",
    "    return order\n",
    "\n",
    "def generatePhi(phi):\n",
    "    alpha = 0.2 # tuning param\n",
    "    delta = np.random.uniform(-1 * alpha,alpha)\n",
    "    new = phi + delta\n",
    "    while(new <= 0):\n",
    "        delta = np.random.uniform(-1 * alpha,alpha)\n",
    "        new = phi + delta\n",
    "    return new"
   ]
  },
  {
   "cell_type": "markdown",
   "metadata": {},
   "source": [
    "We are ready to find the parameters of the Mallow's model on the data"
   ]
  },
  {
   "cell_type": "code",
   "execution_count": 9,
   "metadata": {},
   "outputs": [],
   "source": [
    "def runMallows(rankings, n_runs, lengths_vector, complete=True):\n",
    "    # print(lengths_vector)\n",
    "    lengths = getLengthProbs(lengths_vector)\n",
    "    num_alternatives = len(lengths)\n",
    "    if complete:\n",
    "        num_alternatives = list(lengths_vector.keys())[0]\n",
    "    initial_sigma = np.arange(num_alternatives) + 1\n",
    "    initial_params = [initial_sigma, 1.0]\n",
    "    costfunc = mallowsCost\n",
    "    if complete:\n",
    "        costfunc = mallowsCostComplete\n",
    "    params, cost = metropolis.maximize(costfunc, lengths, initial_params, generateMallowsCandidate, rankings, n_runs)\n",
    "    sigma, phi = params\n",
    "    return params"
   ]
  },
  {
   "cell_type": "code",
   "execution_count": 10,
   "metadata": {},
   "outputs": [],
   "source": [
    "# params = runMallows(votes, 1000, lens)"
   ]
  },
  {
   "cell_type": "markdown",
   "metadata": {},
   "source": [
    "Save these to disk"
   ]
  },
  {
   "cell_type": "code",
   "execution_count": 11,
   "metadata": {},
   "outputs": [],
   "source": [
    "def save():\n",
    "    import pickle\n",
    "\n",
    "    pickle.dump(params, open('pickle/mallows2002_1mil_2.p','wb'))\n",
    "\n",
    "# save()"
   ]
  },
  {
   "cell_type": "code",
   "execution_count": 12,
   "metadata": {},
   "outputs": [],
   "source": [
    "params = [np.array([3, 1, 4, 2]), 0.09938076871319058]"
   ]
  },
  {
   "cell_type": "code",
   "execution_count": null,
   "metadata": {},
   "outputs": [],
   "source": []
  },
  {
   "cell_type": "code",
   "execution_count": null,
   "metadata": {},
   "outputs": [],
   "source": []
  }
 ],
 "metadata": {
  "kernelspec": {
   "display_name": "Python 3",
   "language": "python",
   "name": "python3"
  },
  "language_info": {
   "codemirror_mode": {
    "name": "ipython",
    "version": 3
   },
   "file_extension": ".py",
   "mimetype": "text/x-python",
   "name": "python",
   "nbconvert_exporter": "python",
   "pygments_lexer": "ipython3",
   "version": "3.6.5"
  }
 },
 "nbformat": 4,
 "nbformat_minor": 2
}
