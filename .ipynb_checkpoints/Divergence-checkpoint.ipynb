{
 "cells": [
  {
   "cell_type": "markdown",
   "metadata": {},
   "source": [
    "## Kullback-Leibler Divergence of Empirical and Theoretical Probabilities of Rankings "
   ]
  },
  {
   "cell_type": "markdown",
   "metadata": {},
   "source": [
    "The Kullback-Leibler(KL) divergence of two probability distributions is a measure of difference between the two probability distributions. For probability distributions E and T, the KL divergence is \n",
    "\n",
    "$$ D_{KL}(P, Q) = \\sum_{i}Q(i)\\log\\frac{Q(i)}{P(i)}    $$\n",
    "\n",
    "where i is the ith term that the probability distribution is defined over. To find the KL divergence between the empirical and theoretical probability distributions of the Ireland 2002 data, we first load in the data as well as the parameters we found for the Mallows and Plackett-Luce models that best fit the data:"
   ]
  },
  {
   "cell_type": "code",
   "execution_count": 1,
   "metadata": {},
   "outputs": [
    {
     "data": {
      "text/plain": [
       "([array([3, 1, 5, 4, 2]), 0.006131716274196619],\n",
       " array([0.31115367, 0.24348515, 0.33875853, 0.10660266]),\n",
       " 475.0)"
      ]
     },
     "execution_count": 1,
     "metadata": {},
     "output_type": "execute_result"
    }
   ],
   "source": [
    "import readPreflib\n",
    "import numpy as np\n",
    "\n",
    "_, lengths, votes = readPreflib.soiInputwithWeights('data_input/ED-debian-2002.soi')\n",
    "num_votes = 1.0 * sum(lengths.values())\n",
    "\n",
    "import pickle\n",
    "\n",
    "mallows_params  = pickle.load( open('pickle/mallows2002_1mil_2.p','rb') )\n",
    "sigma, phi = mallows_params\n",
    "plackett_params = pickle.load( open('pickle/plackett2002_3mil_2.p','rb')) \n",
    "pl_weights = plackett_params\n",
    "\n",
    "mallows_params, plackett_params, num_votes"
   ]
  },
  {
   "cell_type": "markdown",
   "metadata": {},
   "source": [
    "We also need to gather the probability functions for the Mallows and Plackett-Luce models"
   ]
  },
  {
   "cell_type": "code",
   "execution_count": 2,
   "metadata": {},
   "outputs": [
    {
     "name": "stdout",
     "output_type": "stream",
     "text": [
      "importing Jupyter notebook from Mallows_Notebook.ipynb\n",
      "importing Jupyter notebook from PL_Notebook.ipynb\n",
      "0.125\n"
     ]
    }
   ],
   "source": [
    "import import_ipynb\n",
    "from Mallows_Notebook import *\n",
    "from PL_Notebook import *\n",
    "import metropolis\n",
    "import math\n",
    "from tqdm import tqdm_notebook"
   ]
  },
  {
   "cell_type": "markdown",
   "metadata": {},
   "source": [
    "Now we can follow the equation for KL divergence to find it."
   ]
  },
  {
   "cell_type": "code",
   "execution_count": 3,
   "metadata": {},
   "outputs": [
    {
     "data": {
      "text/plain": [
       "[372.9318955776771, 46.746431392831106]"
      ]
     },
     "execution_count": 3,
     "metadata": {},
     "output_type": "execute_result"
    }
   ],
   "source": [
    "divergence_mallows = 0\n",
    "divergence_plackett = 0\n",
    "\n",
    "def insideSum(Qi,Pi):\n",
    "    return Qi * math.log(Qi/Pi)\n",
    "\n",
    "for entry in votes:\n",
    "    num_occurances, vote = entry\n",
    "    empirical = num_occurances / num_votes\n",
    "    mallows = mallowsProb(vote, sigma, phi)\n",
    "    plackett = probPlackett(vote, pl_weights)\n",
    "    divergence_mallows += insideSum(mallows, empirical)\n",
    "    divergence_plackett += insideSum(plackett, empirical)\n",
    "\n",
    "results = [divergence_mallows, divergence_plackett]\n",
    "results"
   ]
  },
  {
   "cell_type": "markdown",
   "metadata": {},
   "source": [
    "Save results"
   ]
  },
  {
   "cell_type": "code",
   "execution_count": 4,
   "metadata": {},
   "outputs": [],
   "source": [
    "import pickle\n",
    "\n",
    "pickle.dump(results, open('pickle/divergence_.p','wb'))"
   ]
  },
  {
   "cell_type": "markdown",
   "metadata": {},
   "source": [
    "This can be done for all the files in a folder as well"
   ]
  },
  {
   "cell_type": "code",
   "execution_count": 5,
   "metadata": {},
   "outputs": [
    {
     "data": {
      "application/vnd.jupyter.widget-view+json": {
       "model_id": "9e8de5c98c12429fb93419c6342addc7",
       "version_major": 2,
       "version_minor": 0
      },
      "text/plain": [
       "HBox(children=(IntProgress(value=0, description='All Files', max=7), HTML(value='')))"
      ]
     },
     "metadata": {},
     "output_type": "display_data"
    },
    {
     "data": {
      "application/vnd.jupyter.widget-view+json": {
       "model_id": "6426ee8e99dd4b47ac47e03f81e0b788",
       "version_major": 2,
       "version_minor": 0
      },
      "text/plain": [
       "HBox(children=(IntProgress(value=0, description='mallowsCost'), HTML(value='')))"
      ]
     },
     "metadata": {},
     "output_type": "display_data"
    },
    {
     "data": {
      "application/vnd.jupyter.widget-view+json": {
       "model_id": "e693b7729abe4349a4efe0eee2eaf1d4",
       "version_major": 2,
       "version_minor": 0
      },
      "text/plain": [
       "HBox(children=(IntProgress(value=0, description='plackettCost'), HTML(value='')))"
      ]
     },
     "metadata": {},
     "output_type": "display_data"
    },
    {
     "data": {
      "application/vnd.jupyter.widget-view+json": {
       "model_id": "c7af4db294ee42b9967a6079e313833d",
       "version_major": 2,
       "version_minor": 0
      },
      "text/plain": [
       "HBox(children=(IntProgress(value=0, description='mallowsCost'), HTML(value='')))"
      ]
     },
     "metadata": {},
     "output_type": "display_data"
    },
    {
     "data": {
      "application/vnd.jupyter.widget-view+json": {
       "model_id": "1c57d427c31f41788c2b9ca278fce2ec",
       "version_major": 2,
       "version_minor": 0
      },
      "text/plain": [
       "HBox(children=(IntProgress(value=0, description='plackettCost'), HTML(value='')))"
      ]
     },
     "metadata": {},
     "output_type": "display_data"
    },
    {
     "data": {
      "application/vnd.jupyter.widget-view+json": {
       "model_id": "19b06ad6a2004c6f9ea37f219ca3fc43",
       "version_major": 2,
       "version_minor": 0
      },
      "text/plain": [
       "HBox(children=(IntProgress(value=0, description='mallowsCost'), HTML(value='')))"
      ]
     },
     "metadata": {},
     "output_type": "display_data"
    },
    {
     "data": {
      "application/vnd.jupyter.widget-view+json": {
       "model_id": "b49a2239fc0c4c14a75576059f388c5b",
       "version_major": 2,
       "version_minor": 0
      },
      "text/plain": [
       "HBox(children=(IntProgress(value=0, description='plackettCost'), HTML(value='')))"
      ]
     },
     "metadata": {},
     "output_type": "display_data"
    },
    {
     "data": {
      "application/vnd.jupyter.widget-view+json": {
       "model_id": "2ce1a5e421064ea1bd8661a9c77df062",
       "version_major": 2,
       "version_minor": 0
      },
      "text/plain": [
       "HBox(children=(IntProgress(value=0, description='mallowsCost'), HTML(value='')))"
      ]
     },
     "metadata": {},
     "output_type": "display_data"
    },
    {
     "data": {
      "application/vnd.jupyter.widget-view+json": {
       "model_id": "c8ae76678cc943aaadbdac88b82c93e5",
       "version_major": 2,
       "version_minor": 0
      },
      "text/plain": [
       "HBox(children=(IntProgress(value=0, description='plackettCost'), HTML(value='')))"
      ]
     },
     "metadata": {},
     "output_type": "display_data"
    },
    {
     "data": {
      "application/vnd.jupyter.widget-view+json": {
       "model_id": "15a3d6f9d8aa435299b2e2fa73b2155a",
       "version_major": 2,
       "version_minor": 0
      },
      "text/plain": [
       "HBox(children=(IntProgress(value=0, description='mallowsCost'), HTML(value='')))"
      ]
     },
     "metadata": {},
     "output_type": "display_data"
    },
    {
     "data": {
      "application/vnd.jupyter.widget-view+json": {
       "model_id": "0bd270b9b5c84a029792d9a58fbfa19b",
       "version_major": 2,
       "version_minor": 0
      },
      "text/plain": [
       "HBox(children=(IntProgress(value=0, description='plackettCost'), HTML(value='')))"
      ]
     },
     "metadata": {},
     "output_type": "display_data"
    },
    {
     "data": {
      "application/vnd.jupyter.widget-view+json": {
       "model_id": "213143f22c9341ee96d4b89d9229439b",
       "version_major": 2,
       "version_minor": 0
      },
      "text/plain": [
       "HBox(children=(IntProgress(value=0, description='mallowsCost'), HTML(value='')))"
      ]
     },
     "metadata": {},
     "output_type": "display_data"
    },
    {
     "data": {
      "application/vnd.jupyter.widget-view+json": {
       "model_id": "1a2a135fad754a4ea81142722069f171",
       "version_major": 2,
       "version_minor": 0
      },
      "text/plain": [
       "HBox(children=(IntProgress(value=0, description='plackettCost'), HTML(value='')))"
      ]
     },
     "metadata": {},
     "output_type": "display_data"
    },
    {
     "data": {
      "application/vnd.jupyter.widget-view+json": {
       "model_id": "f6b64b4f99f64d649915ae9db03cd509",
       "version_major": 2,
       "version_minor": 0
      },
      "text/plain": [
       "HBox(children=(IntProgress(value=0, description='mallowsCost'), HTML(value='')))"
      ]
     },
     "metadata": {},
     "output_type": "display_data"
    },
    {
     "data": {
      "application/vnd.jupyter.widget-view+json": {
       "model_id": "47281f649f09494686371ffb2c3a1118",
       "version_major": 2,
       "version_minor": 0
      },
      "text/plain": [
       "HBox(children=(IntProgress(value=0, description='plackettCost'), HTML(value='')))"
      ]
     },
     "metadata": {},
     "output_type": "display_data"
    },
    {
     "name": "stdout",
     "output_type": "stream",
     "text": [
      "\n"
     ]
    }
   ],
   "source": [
    "files = ['ED-00002-00000001.soi',\\\n",
    "         'ED-00002-00000002.soi',\\\n",
    "         'ED-00002-00000003.soi',\\\n",
    "         'ED-00002-00000004.soi',\\\n",
    "         'ED-00002-00000005.soi',\\\n",
    "         'ED-00002-00000006.soi',\\\n",
    "         'ED-00002-00000007.soi']\n",
    "\n",
    "list_of_votes = []\n",
    "mallows_params = []\n",
    "pl_params = []\n",
    "\n",
    "nruns = 100\n",
    "\n",
    "for file in tqdm_notebook(files,desc = 'All Files'):\n",
    "    _, lengths, votes = readPreflib.soiInputwithWeights('preflib_soi/'+file)\n",
    "    num_votes = 1.0 * sum(lengths.values())\n",
    "    list_of_votes.append((num_votes,votes))\n",
    "    p_mal = runMallows(votes, nruns, lengths)\n",
    "    mallows_params.append(p_mal)\n",
    "    p_pl = runPL(votes, nruns, lengths)\n",
    "    pl_params.append(p_pl)"
   ]
  },
  {
   "cell_type": "code",
   "execution_count": 9,
   "metadata": {},
   "outputs": [
    {
     "data": {
      "text/plain": [
       "[array([0.11405058, 0.11543402, 0.33712478, 0.43339062]),\n",
       " array([0.07744458, 0.13448718, 0.15879523, 0.16511992, 0.46415309]),\n",
       " array([0.04860412, 0.0938401 , 0.10664794, 0.15898738, 0.08018003,\n",
       "        0.10099901, 0.41074142]),\n",
       " array([0.03062975, 0.04536536, 0.06975143, 0.04565361, 0.02429043,\n",
       "        0.02372079, 0.06410887, 0.69647976]),\n",
       " array([0.04486576, 0.1058907 , 0.08613949, 0.09569888, 0.0795164 ,\n",
       "        0.0342645 , 0.024514  , 0.0565099 , 0.47260036]),\n",
       " array([0.13428294, 0.12178278, 0.13597867, 0.13974907, 0.46820654]),\n",
       " array([0.12055543, 0.08788404, 0.17890132, 0.61265921])]"
      ]
     },
     "execution_count": 9,
     "metadata": {},
     "output_type": "execute_result"
    }
   ],
   "source": [
    "pl_params"
   ]
  },
  {
   "cell_type": "code",
   "execution_count": 11,
   "metadata": {},
   "outputs": [
    {
     "name": "stdout",
     "output_type": "stream",
     "text": [
      "[('File#', 'N_Votes', \"Mallow's Divergence\", 'Plackett-Luce Divergence'), (0, 475.0, 16.05505744793081, 38.64222198435496), (1, 488.0, 379.3396771774338, 54.790067328853034), (2, 504.0, -0.14123800021863592, 87.62519816120155), (3, 421.0, 0.0950929431104374, 61.464238267862), (4, 482.0, 74.65255232995827, 65.88763850291036), (5, 436.0, 306.38254671304367, 50.068986284565725), (6, 403.0, 308.48662360400925, 35.72022832992879)]\n"
     ]
    }
   ],
   "source": [
    "table = [[]'File#','N_Votes','Mallow\\'s Divergence','Plackett-Luce Divergence']]\n",
    "\n",
    "for i in range(len(list_of_votes)):\n",
    "    num_votes, votes = list_of_votes[i]\n",
    "    sigma, phi = mallows_params[i]\n",
    "    pl_weights = pl_params[i]\n",
    "    \n",
    "    divergence_mallows = 0\n",
    "    divergence_plackett = 0\n",
    "    \n",
    "    for entry in votes:\n",
    "        num_occurances, vote = entry\n",
    "        empirical = num_occurances / num_votes\n",
    "        mallows = mallowsProb(vote, sigma, phi)\n",
    "        plackett = probPlackett(vote, pl_weights)\n",
    "        divergence_mallows += insideSum(mallows, empirical)\n",
    "        divergence_plackett += insideSum(plackett, empirical)\n",
    "    \n",
    "    table.append((num_votes, divergence_mallows, divergence_plackett))\n",
    "\n",
    "print(table)"
   ]
  },
  {
   "cell_type": "code",
   "execution_count": 12,
   "metadata": {},
   "outputs": [],
   "source": [
    "import pandas as pd\n",
    "\n",
    "for tup in table:\n",
    "    "
   ]
  },
  {
   "cell_type": "code",
   "execution_count": null,
   "metadata": {},
   "outputs": [],
   "source": []
  }
 ],
 "metadata": {
  "kernelspec": {
   "display_name": "Python 3",
   "language": "python",
   "name": "python3"
  },
  "language_info": {
   "codemirror_mode": {
    "name": "ipython",
    "version": 3
   },
   "file_extension": ".py",
   "mimetype": "text/x-python",
   "name": "python",
   "nbconvert_exporter": "python",
   "pygments_lexer": "ipython3",
   "version": "3.6.5"
  }
 },
 "nbformat": 4,
 "nbformat_minor": 2
}
