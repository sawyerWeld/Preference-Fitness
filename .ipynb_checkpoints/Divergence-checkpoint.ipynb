{
 "cells": [
  {
   "cell_type": "markdown",
   "metadata": {},
   "source": [
    "## Kullback-Leibler Divergence of Empirical and Theoretical Probabilities of Rankings "
   ]
  },
  {
   "cell_type": "markdown",
   "metadata": {},
   "source": [
    "The Kullback-Leibler(KL) divergence of two probability distributions is a measure of difference between the two probability distributions. For probability distributions E and T, the KL divergence is \n",
    "\n",
    "$$ D_{KL}(P, Q) = \\sum_{i}Q(i)\\log\\frac{Q(i)}{P(i)}    $$\n",
    "\n",
    "where i is the ith term that the probability distribution is defined over. To find the KL divergence between the empirical and theoretical probability distributions of the Ireland 2002 data, we first load in the data as well as the parameters we found for the Mallows and Plackett-Luce models that best fit the data:"
   ]
  },
  {
   "cell_type": "code",
   "execution_count": 1,
   "metadata": {},
   "outputs": [
    {
     "data": {
      "text/plain": [
       "([array([3, 1, 5, 4, 2]), 0.006131716274196619],\n",
       " array([0.31115367, 0.24348515, 0.33875853, 0.10660266]),\n",
       " 475.0)"
      ]
     },
     "execution_count": 1,
     "metadata": {},
     "output_type": "execute_result"
    }
   ],
   "source": [
    "import readPreflib\n",
    "import numpy as np\n",
    "\n",
    "_, lengths, votes = readPreflib.soiInputwithWeights('data_input/ED-debian-2002.soi')\n",
    "num_votes = 1.0 * sum(lengths.values())\n",
    "\n",
    "import pickle\n",
    "\n",
    "mallows_params  = pickle.load( open('pickle/mallows2002_1mil_2.p','rb') )\n",
    "sigma, phi = mallows_params\n",
    "plackett_params = pickle.load( open('pickle/plackett2002_3mil_2.p','rb')) \n",
    "pl_weights = plackett_params\n",
    "\n",
    "mallows_params, plackett_params, num_votes"
   ]
  },
  {
   "cell_type": "markdown",
   "metadata": {},
   "source": [
    "We also need to gather the probability functions for the Mallows and Plackett-Luce models"
   ]
  },
  {
   "cell_type": "code",
   "execution_count": 13,
   "metadata": {},
   "outputs": [],
   "source": [
    "import import_ipynb\n",
    "from Mallows_Notebook import *\n",
    "from PL_Notebook import *\n",
    "import metropolis\n",
    "import math\n",
    "from tqdm import tqdm_notebook\n",
    "import itertools"
   ]
  },
  {
   "cell_type": "markdown",
   "metadata": {},
   "source": [
    "Now we can follow the equation for KL divergence to find it."
   ]
  },
  {
   "cell_type": "code",
   "execution_count": 3,
   "metadata": {},
   "outputs": [
    {
     "data": {
      "text/plain": [
       "[372.9318955776771, 46.746431392831106]"
      ]
     },
     "execution_count": 3,
     "metadata": {},
     "output_type": "execute_result"
    }
   ],
   "source": [
    "divergence_mallows = 0\n",
    "divergence_plackett = 0\n",
    "\n",
    "def insideSum(Qi,Pi):\n",
    "    return Qi * math.log(Qi/Pi)\n",
    "\n",
    "for entry in votes:\n",
    "    num_occurances, vote = entry\n",
    "    empirical = num_occurances / num_votes\n",
    "    mallows = mallowsProb(vote, sigma, phi)\n",
    "    plackett = probPlackett(vote, pl_weights)\n",
    "    divergence_mallows += insideSum(mallows, empirical)\n",
    "    divergence_plackett += insideSum(plackett, empirical)\n",
    "\n",
    "results = [divergence_mallows, divergence_plackett]\n",
    "results"
   ]
  },
  {
   "cell_type": "markdown",
   "metadata": {},
   "source": [
    "Save results"
   ]
  },
  {
   "cell_type": "code",
   "execution_count": 4,
   "metadata": {},
   "outputs": [],
   "source": [
    "import pickle\n",
    "\n",
    "pickle.dump(results, open('pickle/divergence_.p','wb'))"
   ]
  },
  {
   "cell_type": "markdown",
   "metadata": {},
   "source": [
    "This can be done for all the files in a folder as well"
   ]
  },
  {
   "cell_type": "code",
   "execution_count": 17,
   "metadata": {},
   "outputs": [
    {
     "name": "stdout",
     "output_type": "stream",
     "text": [
      "Projected Time = 120.0 seconds, which is ~ 2.0 minutes\n"
     ]
    },
    {
     "data": {
      "application/vnd.jupyter.widget-view+json": {
       "model_id": "cafc5346097f412c8e0e3198084a3913",
       "version_major": 2,
       "version_minor": 0
      },
      "text/plain": [
       "HBox(children=(IntProgress(value=0, description='All Files', max=7), HTML(value='')))"
      ]
     },
     "metadata": {},
     "output_type": "display_data"
    },
    {
     "data": {
      "application/vnd.jupyter.widget-view+json": {
       "model_id": "cd78635cbd9247afb5759417579d0a1b",
       "version_major": 2,
       "version_minor": 0
      },
      "text/plain": [
       "HBox(children=(IntProgress(value=0, description='mallowsCost', max=1000), HTML(value='')))"
      ]
     },
     "metadata": {},
     "output_type": "display_data"
    },
    {
     "data": {
      "application/vnd.jupyter.widget-view+json": {
       "model_id": "5044fd9a35434e3b99cc3ec69faa3e40",
       "version_major": 2,
       "version_minor": 0
      },
      "text/plain": [
       "HBox(children=(IntProgress(value=0, description='plackettCost', max=1000), HTML(value='')))"
      ]
     },
     "metadata": {},
     "output_type": "display_data"
    },
    {
     "data": {
      "application/vnd.jupyter.widget-view+json": {
       "model_id": "55849d15c9194da1959729fb8124008d",
       "version_major": 2,
       "version_minor": 0
      },
      "text/plain": [
       "HBox(children=(IntProgress(value=0, description='mallowsCost', max=1000), HTML(value='')))"
      ]
     },
     "metadata": {},
     "output_type": "display_data"
    },
    {
     "data": {
      "application/vnd.jupyter.widget-view+json": {
       "model_id": "f34aae2a90f64294b060c4c2bbe36616",
       "version_major": 2,
       "version_minor": 0
      },
      "text/plain": [
       "HBox(children=(IntProgress(value=0, description='plackettCost', max=1000), HTML(value='')))"
      ]
     },
     "metadata": {},
     "output_type": "display_data"
    },
    {
     "data": {
      "application/vnd.jupyter.widget-view+json": {
       "model_id": "7a31a222ea144c9cabe61ce3cc656eb3",
       "version_major": 2,
       "version_minor": 0
      },
      "text/plain": [
       "HBox(children=(IntProgress(value=0, description='mallowsCost', max=1000), HTML(value='')))"
      ]
     },
     "metadata": {},
     "output_type": "display_data"
    },
    {
     "data": {
      "application/vnd.jupyter.widget-view+json": {
       "model_id": "8c686fa375d1478686eb8691a1c76396",
       "version_major": 2,
       "version_minor": 0
      },
      "text/plain": [
       "HBox(children=(IntProgress(value=0, description='plackettCost', max=1000), HTML(value='')))"
      ]
     },
     "metadata": {},
     "output_type": "display_data"
    },
    {
     "data": {
      "application/vnd.jupyter.widget-view+json": {
       "model_id": "e5d6a061ba55494099a3a649e44c4501",
       "version_major": 2,
       "version_minor": 0
      },
      "text/plain": [
       "HBox(children=(IntProgress(value=0, description='mallowsCost', max=1000), HTML(value='')))"
      ]
     },
     "metadata": {},
     "output_type": "display_data"
    },
    {
     "data": {
      "application/vnd.jupyter.widget-view+json": {
       "model_id": "00f8e1cf8ece46dabfb895eb38884f45",
       "version_major": 2,
       "version_minor": 0
      },
      "text/plain": [
       "HBox(children=(IntProgress(value=0, description='plackettCost', max=1000), HTML(value='')))"
      ]
     },
     "metadata": {},
     "output_type": "display_data"
    },
    {
     "data": {
      "application/vnd.jupyter.widget-view+json": {
       "model_id": "65549ab4e61d44d6aab5a7a46d79056b",
       "version_major": 2,
       "version_minor": 0
      },
      "text/plain": [
       "HBox(children=(IntProgress(value=0, description='mallowsCost', max=1000), HTML(value='')))"
      ]
     },
     "metadata": {},
     "output_type": "display_data"
    },
    {
     "data": {
      "application/vnd.jupyter.widget-view+json": {
       "model_id": "881768c215574871b5a9a6c7ac6caebc",
       "version_major": 2,
       "version_minor": 0
      },
      "text/plain": [
       "HBox(children=(IntProgress(value=0, description='plackettCost', max=1000), HTML(value='')))"
      ]
     },
     "metadata": {},
     "output_type": "display_data"
    },
    {
     "data": {
      "application/vnd.jupyter.widget-view+json": {
       "model_id": "e2312431ec044012ac44c7dae392799f",
       "version_major": 2,
       "version_minor": 0
      },
      "text/plain": [
       "HBox(children=(IntProgress(value=0, description='mallowsCost', max=1000), HTML(value='')))"
      ]
     },
     "metadata": {},
     "output_type": "display_data"
    },
    {
     "data": {
      "application/vnd.jupyter.widget-view+json": {
       "model_id": "97e74efe1b7245138dbd08ef2f0de5bb",
       "version_major": 2,
       "version_minor": 0
      },
      "text/plain": [
       "HBox(children=(IntProgress(value=0, description='plackettCost', max=1000), HTML(value='')))"
      ]
     },
     "metadata": {},
     "output_type": "display_data"
    },
    {
     "data": {
      "application/vnd.jupyter.widget-view+json": {
       "model_id": "c4227b92f0024d33842f407074f57851",
       "version_major": 2,
       "version_minor": 0
      },
      "text/plain": [
       "HBox(children=(IntProgress(value=0, description='mallowsCost', max=1000), HTML(value='')))"
      ]
     },
     "metadata": {},
     "output_type": "display_data"
    },
    {
     "data": {
      "application/vnd.jupyter.widget-view+json": {
       "model_id": "01252aeaaf9e4ed48eb3fb387a0701b3",
       "version_major": 2,
       "version_minor": 0
      },
      "text/plain": [
       "HBox(children=(IntProgress(value=0, description='plackettCost', max=1000), HTML(value='')))"
      ]
     },
     "metadata": {},
     "output_type": "display_data"
    },
    {
     "name": "stdout",
     "output_type": "stream",
     "text": [
      "\n"
     ]
    }
   ],
   "source": [
    "files = ['ED-00002-00000001.soi',\\\n",
    "         'ED-00002-00000002.soi',\\\n",
    "         'ED-00002-00000003.soi',\\\n",
    "         'ED-00002-00000004.soi',\\\n",
    "         'ED-00002-00000005.soi',\\\n",
    "         'ED-00002-00000006.soi',\\\n",
    "         'ED-00002-00000007.soi']\n",
    "\n",
    "\n",
    "list_of_votes = []\n",
    "mallows_params = []\n",
    "pl_params = []\n",
    "\n",
    "nruns = 1_000\n",
    "\n",
    "print('Projected Time =',120/1000.0 * nruns,'seconds, which is ~', 2/1000.0 * nruns, 'minutes')\n",
    "\n",
    "for file in tqdm_notebook(files,desc = 'All Files'):\n",
    "    _, lengths, votes = readPreflib.soiInputwithWeights('preflib_soi/'+file)\n",
    "    num_votes = 1.0 * sum(lengths.values())\n",
    "    list_of_votes.append((num_votes, lengths, votes))\n",
    "    p_mal = runMallows(votes, nruns, lengths)\n",
    "    mallows_params.append(p_mal)\n",
    "    p_pl = runPL(votes, nruns, lengths)\n",
    "    pl_params.append(p_pl)"
   ]
  },
  {
   "cell_type": "code",
   "execution_count": 12,
   "metadata": {},
   "outputs": [],
   "source": [
    "import pickle\n",
    "\n",
    "pickle.dump([mallows_params, pl_params], open('pickle/params_1k.p','wb'))"
   ]
  },
  {
   "cell_type": "markdown",
   "metadata": {},
   "source": [
    "So here is what we would do if we wanted to iterate over all the unique votes in the dataset, but we dont want to do that :^)"
   ]
  },
  {
   "cell_type": "code",
   "execution_count": 18,
   "metadata": {},
   "outputs": [],
   "source": [
    "table = []\n",
    "col_names = ['Number_Votes','Mallow\\'s_Divergence','Plackett-Luce_Divergence']\n",
    "\n",
    "for i in range(len(list_of_votes)):\n",
    "    num_votes, lengths, votes = list_of_votes[i]\n",
    "    sigma, phi = mallows_params[i]\n",
    "    pl_weights = pl_params[i]\n",
    "    \n",
    "    divergence_mallows = 0\n",
    "    divergence_plackett = 0\n",
    "    \n",
    "    for entry in votes:\n",
    "        num_occurances, vote = entry\n",
    "        empirical = num_occurances / num_votes\n",
    "        mallows = mallowsProb(vote, sigma, phi)\n",
    "        plackett = probPlackett(vote, pl_weights)\n",
    "        divergence_mallows += insideSum(mallows, empirical)\n",
    "        divergence_plackett += insideSum(plackett, empirical)\n",
    "    \n",
    "    table.append([num_votes, divergence_mallows, divergence_plackett])"
   ]
  },
  {
   "cell_type": "markdown",
   "metadata": {},
   "source": [
    "But instead we want to iterate over all possible votes. We do that like this:"
   ]
  },
  {
   "cell_type": "code",
   "execution_count": 15,
   "metadata": {},
   "outputs": [
    {
     "data": {
      "text/plain": [
       "<itertools.combinations at 0x21085aee368>"
      ]
     },
     "execution_count": 15,
     "metadata": {},
     "output_type": "execute_result"
    }
   ],
   "source": [
    "table = []\n",
    "col_names = ['Number_Votes','Mallow\\'s_Divergence','Plackett-Luce_Divergence']\n",
    "\n",
    "\n",
    "for i in range(len(list_of_votes)):\n",
    "    num_votes, lengths, votes = list_of_votes[i]\n",
    "    sigma, phi = mallows_params[i]\n",
    "    pl_weights = pl_params[i]\n",
    "    \n",
    "    divergence_mallows = 0\n",
    "    divergence_plackett = 0\n",
    "    \n",
    "    possibles = len(range(len(lengths)))\n",
    "    pass\n",
    "    \n",
    "#     num_votes, votes = list_of_votes[i]\n",
    "#     sigma, phi = mallows_params[i]\n",
    "#     pl_weights = pl_params[i]\n",
    "    \n",
    "#     divergence_mallows = 0\n",
    "#     divergence_plackett = 0\n",
    "    \n",
    "#     for entry in votes:\n",
    "#         num_occurances, vote = entry\n",
    "#         empirical = num_occurances / num_votes\n",
    "#         mallows = mallowsProb(vote, sigma, phi)\n",
    "#         plackett = probPlackett(vote, pl_weights)\n",
    "#         divergence_mallows += insideSum(mallows, empirical)\n",
    "#         divergence_plackett += insideSum(plackett, empirical)\n",
    "    \n",
    "#     table.append([num_votes, divergence_mallows, divergence_plackett])"
   ]
  },
  {
   "cell_type": "code",
   "execution_count": 25,
   "metadata": {},
   "outputs": [
    {
     "ename": "TypeError",
     "evalue": "can only concatenate list (not \"int\") to list",
     "output_type": "error",
     "traceback": [
      "\u001b[1;31m---------------------------------------------------------------------------\u001b[0m",
      "\u001b[1;31mTypeError\u001b[0m                                 Traceback (most recent call last)",
      "\u001b[1;32m<ipython-input-25-68fbbd913bd9>\u001b[0m in \u001b[0;36m<module>\u001b[1;34m()\u001b[0m\n\u001b[1;32m----> 1\u001b[1;33m \u001b[0mpossibles\u001b[0m \u001b[1;33m=\u001b[0m \u001b[0mlist\u001b[0m\u001b[1;33m(\u001b[0m\u001b[0mrange\u001b[0m\u001b[1;33m(\u001b[0m\u001b[0mlen\u001b[0m\u001b[1;33m(\u001b[0m\u001b[0mlengths\u001b[0m\u001b[1;33m)\u001b[0m\u001b[1;33m)\u001b[0m\u001b[1;33m)\u001b[0m \u001b[1;33m+\u001b[0m \u001b[1;36m1\u001b[0m\u001b[1;33m\u001b[0m\u001b[0m\n\u001b[0m\u001b[0;32m      2\u001b[0m \u001b[0mpossibles\u001b[0m\u001b[1;33m,\u001b[0m \u001b[0mlengths\u001b[0m\u001b[1;33m\u001b[0m\u001b[0m\n",
      "\u001b[1;31mTypeError\u001b[0m: can only concatenate list (not \"int\") to list"
     ]
    }
   ],
   "source": [
    "# possibles = list(range(len(lengths))) + 1\n",
    "possibles, lengths"
   ]
  },
  {
   "cell_type": "code",
   "execution_count": 19,
   "metadata": {},
   "outputs": [
    {
     "data": {
      "text/html": [
       "<div>\n",
       "<style scoped>\n",
       "    .dataframe tbody tr th:only-of-type {\n",
       "        vertical-align: middle;\n",
       "    }\n",
       "\n",
       "    .dataframe tbody tr th {\n",
       "        vertical-align: top;\n",
       "    }\n",
       "\n",
       "    .dataframe thead th {\n",
       "        text-align: right;\n",
       "    }\n",
       "</style>\n",
       "<table border=\"1\" class=\"dataframe\">\n",
       "  <thead>\n",
       "    <tr style=\"text-align: right;\">\n",
       "      <th></th>\n",
       "      <th>Number_Votes</th>\n",
       "      <th>Mallow's_Divergence</th>\n",
       "      <th>Plackett-Luce_Divergence</th>\n",
       "    </tr>\n",
       "  </thead>\n",
       "  <tbody>\n",
       "    <tr>\n",
       "      <th>1</th>\n",
       "      <td>475.0</td>\n",
       "      <td>340.338764</td>\n",
       "      <td>44.709738</td>\n",
       "    </tr>\n",
       "    <tr>\n",
       "      <th>2</th>\n",
       "      <td>488.0</td>\n",
       "      <td>449.728071</td>\n",
       "      <td>61.815098</td>\n",
       "    </tr>\n",
       "    <tr>\n",
       "      <th>3</th>\n",
       "      <td>504.0</td>\n",
       "      <td>606.433668</td>\n",
       "      <td>92.739668</td>\n",
       "    </tr>\n",
       "    <tr>\n",
       "      <th>4</th>\n",
       "      <td>421.0</td>\n",
       "      <td>3.267751</td>\n",
       "      <td>76.153729</td>\n",
       "    </tr>\n",
       "    <tr>\n",
       "      <th>5</th>\n",
       "      <td>482.0</td>\n",
       "      <td>12.643678</td>\n",
       "      <td>77.891219</td>\n",
       "    </tr>\n",
       "    <tr>\n",
       "      <th>6</th>\n",
       "      <td>436.0</td>\n",
       "      <td>302.960155</td>\n",
       "      <td>60.120151</td>\n",
       "    </tr>\n",
       "    <tr>\n",
       "      <th>7</th>\n",
       "      <td>403.0</td>\n",
       "      <td>364.444871</td>\n",
       "      <td>39.241049</td>\n",
       "    </tr>\n",
       "  </tbody>\n",
       "</table>\n",
       "</div>"
      ],
      "text/plain": [
       "   Number_Votes  Mallow's_Divergence  Plackett-Luce_Divergence\n",
       "1         475.0           340.338764                 44.709738\n",
       "2         488.0           449.728071                 61.815098\n",
       "3         504.0           606.433668                 92.739668\n",
       "4         421.0             3.267751                 76.153729\n",
       "5         482.0            12.643678                 77.891219\n",
       "6         436.0           302.960155                 60.120151\n",
       "7         403.0           364.444871                 39.241049"
      ]
     },
     "execution_count": 19,
     "metadata": {},
     "output_type": "execute_result"
    }
   ],
   "source": [
    "import pandas as pd\n",
    "\n",
    "npdata = np.array(table)\n",
    "results_df = pd.DataFrame(data=npdata,columns=col_names)\n",
    "results_df.index += 1\n",
    "pickle.dump(results_df, open('pickle/divergence10k.p','wb'))\n",
    "results_df"
   ]
  },
  {
   "cell_type": "code",
   "execution_count": 8,
   "metadata": {},
   "outputs": [],
   "source": [
    "# pickle.load(open('pickle/divergence100k.p','rb'))"
   ]
  },
  {
   "cell_type": "code",
   "execution_count": 9,
   "metadata": {},
   "outputs": [],
   "source": [
    "results_df.to_csv('pickle/10kRunsDivergence.csv',sep=',')"
   ]
  },
  {
   "cell_type": "code",
   "execution_count": null,
   "metadata": {},
   "outputs": [],
   "source": []
  }
 ],
 "metadata": {
  "kernelspec": {
   "display_name": "Python 3",
   "language": "python",
   "name": "python3"
  },
  "language_info": {
   "codemirror_mode": {
    "name": "ipython",
    "version": 3
   },
   "file_extension": ".py",
   "mimetype": "text/x-python",
   "name": "python",
   "nbconvert_exporter": "python",
   "pygments_lexer": "ipython3",
   "version": "3.6.5"
  }
 },
 "nbformat": 4,
 "nbformat_minor": 2
}
